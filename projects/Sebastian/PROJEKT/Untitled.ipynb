{
 "cells": [
  {
   "cell_type": "code",
   "execution_count": 1,
   "metadata": {},
   "outputs": [],
   "source": [
    "import pandas as pd\n",
    "from sklearn import datasets\n",
    "from pandas_profiling import ProfileReport\n",
    "import ipywidgets as widgets\n",
    "from ipywidgets import interact\n",
    "import plotly.express as px\n",
    "import seaborn as sns\n",
    "from matplotlib import pyplot as plt\n",
    "from sklearn import svm\n",
    "import numpy as np\n",
    "import sklearn"
   ]
  },
  {
   "cell_type": "code",
   "execution_count": 2,
   "metadata": {},
   "outputs": [],
   "source": [
    "#----------------------------------\n",
    "# Wczytanie danych\n",
    "data = pd.read_csv(r'C:/Users/sebma/Documents/GitHub/Sebastian/Data/water_potability.csv')\n",
    "df = pd.DataFrame(data=data)\n",
    "profile = ProfileReport(df, title=\"Woda_raport\", explorative=True)\n",
    "profile.to_file(\"Woda_raport.pdf\")"
   ]
  },
  {
   "cell_type": "code",
   "execution_count": 4,
   "metadata": {},
   "outputs": [
    {
     "name": "stdout",
     "output_type": "stream",
     "text": [
      "<class 'pandas.core.frame.DataFrame'>\n",
      "RangeIndex: 3276 entries, 0 to 3275\n",
      "Data columns (total 10 columns):\n",
      " #   Column           Non-Null Count  Dtype  \n",
      "---  ------           --------------  -----  \n",
      " 0   ph               2785 non-null   float64\n",
      " 1   Hardness         3276 non-null   float64\n",
      " 2   Solids           3276 non-null   float64\n",
      " 3   Chloramines      3276 non-null   float64\n",
      " 4   Sulfate          2495 non-null   float64\n",
      " 5   Conductivity     3276 non-null   float64\n",
      " 6   Organic_carbon   3276 non-null   float64\n",
      " 7   Trihalomethanes  3114 non-null   float64\n",
      " 8   Turbidity        3276 non-null   float64\n",
      " 9   Potability       3276 non-null   int64  \n",
      "dtypes: float64(9), int64(1)\n",
      "memory usage: 256.1 KB\n"
     ]
    }
   ],
   "source": [
    "#--------------------------------\n",
    "# Podstawowe informacje\n",
    "df.info()"
   ]
  },
  {
   "cell_type": "code",
   "execution_count": 5,
   "metadata": {},
   "outputs": [
    {
     "name": "stdout",
     "output_type": "stream",
     "text": [
      "Ilość duplikatów:  0\n"
     ]
    }
   ],
   "source": [
    "# mamy braki danych\n",
    "print(\"Ilość duplikatów: \", df.duplicated().sum())\n",
    "# nie mamy duplikatów"
   ]
  },
  {
   "cell_type": "code",
   "execution_count": 6,
   "metadata": {},
   "outputs": [
    {
     "name": "stdout",
     "output_type": "stream",
     "text": [
      "                 Łącznie    Procent\n",
      "Sulfate              781  23.840049\n",
      "ph                   491  14.987790\n",
      "Trihalomethanes      162   4.945055\n",
      "Hardness               0   0.000000\n",
      "Solids                 0   0.000000\n",
      "Chloramines            0   0.000000\n",
      "Conductivity           0   0.000000\n",
      "Organic_carbon         0   0.000000\n",
      "Turbidity              0   0.000000\n",
      "Potability             0   0.000000\n"
     ]
    }
   ],
   "source": [
    "# jaki jest procentowy udzial pustych komorek\n",
    "puste = df.isnull().sum().sort_values(ascending=False)\n",
    "puste_procent = (df.isnull().sum() / df.isnull().count() * 100).sort_values(ascending=False)\n",
    "braki = pd.concat([puste, puste_procent], axis=1, keys=['Łącznie', 'Procent'])\n",
    "print(braki)"
   ]
  },
  {
   "cell_type": "code",
   "execution_count": 8,
   "metadata": {},
   "outputs": [],
   "source": [
    "# poki co je usuwamy\n",
    "df.dropna(inplace=True)"
   ]
  },
  {
   "cell_type": "code",
   "execution_count": 10,
   "metadata": {},
   "outputs": [
    {
     "data": {
      "application/vnd.jupyter.widget-view+json": {
       "model_id": "1a1c849ba8244d279fa079badd9dcbd3",
       "version_major": 2,
       "version_minor": 0
      },
      "text/plain": [
       "interactive(children=(Dropdown(description='kolumna', options=('ph', 'Hardness', 'Solids', 'Chloramines', 'Sul…"
      ]
     },
     "metadata": {},
     "output_type": "display_data"
    }
   ],
   "source": [
    "#==============================Wykresy============================\n",
    "@interact(kolumna=['ph', 'Hardness', 'Solids', 'Chloramines', 'Sulfate', 'Conductivity',\n",
    "                   'Organic_carbon', 'Trihalomethanes', 'Turbidity', 'Potability'])\n",
    "def wykresy(kolumna):\n",
    "    fig, axs = plt.subplots(1, 2, constrained_layout=True, figsize=(15, 5))\n",
    "    axs[0].boxplot(df[kolumna])\n",
    "    axs[0].set_xlabel(\"Boxplot zmiennej \" + str(kolumna))\n",
    "    axs[1].hist(df[kolumna])\n",
    "    axs[1].set_xlabel(\"Histogram zmiennej \" + str(kolumna))\n",
    "    fig.suptitle(\"Zmienna \" + str(kolumna).upper(), fontsize=16)\n",
    "    return plt.show()"
   ]
  },
  {
   "cell_type": "code",
   "execution_count": 11,
   "metadata": {},
   "outputs": [
    {
     "name": "stdout",
     "output_type": "stream",
     "text": [
      "count    2011.000000\n",
      "mean        7.085990\n",
      "std         1.573337\n",
      "min         0.227499\n",
      "25%         6.089723\n",
      "50%         7.027297\n",
      "75%         8.052969\n",
      "max        14.000000\n",
      "Name: ph, dtype: object \n",
      " ======================\n",
      "count    2011.000000\n",
      "mean      195.968072\n",
      "std        32.635085\n",
      "min        73.492234\n",
      "25%       176.744938\n",
      "50%       197.191839\n",
      "75%       216.441070\n",
      "max       317.338124\n",
      "Name: Hardness, dtype: object \n",
      " ======================\n",
      "count     2011.000000\n",
      "mean     21917.441374\n",
      "std       8642.239815\n",
      "min        320.942611\n",
      "25%      15615.665390\n",
      "50%      20933.512750\n",
      "75%      27182.587067\n",
      "max      56488.672413\n",
      "Name: Solids, dtype: object \n",
      " ======================\n",
      "count    2011.000000\n",
      "mean        7.134338\n",
      "std         1.584820\n",
      "min         1.390871\n",
      "25%         6.138895\n",
      "50%         7.143907\n",
      "75%         8.109726\n",
      "max        13.127000\n",
      "Name: Chloramines, dtype: object \n",
      " ======================\n",
      "count    2011.000000\n",
      "mean      333.224672\n",
      "std        41.205172\n",
      "min       129.000000\n",
      "25%       307.632511\n",
      "50%       332.232177\n",
      "75%       359.330555\n",
      "max       481.030642\n",
      "Name: Sulfate, dtype: object \n",
      " ======================\n",
      "count    2011.000000\n",
      "mean      426.526409\n",
      "std        80.712572\n",
      "min       201.619737\n",
      "25%       366.680307\n",
      "50%       423.455906\n",
      "75%       482.373169\n",
      "max       753.342620\n",
      "Name: Conductivity, dtype: object \n",
      " ======================\n",
      "count    2011.000000\n",
      "mean       14.357709\n",
      "std         3.324959\n",
      "min         2.200000\n",
      "25%        12.124105\n",
      "50%        14.322019\n",
      "75%        16.683049\n",
      "max        27.006707\n",
      "Name: Organic_carbon, dtype: object \n",
      " ======================\n",
      "count    2011.000000\n",
      "mean       66.400859\n",
      "std        16.077109\n",
      "min         8.577013\n",
      "25%        55.952664\n",
      "50%        66.542198\n",
      "75%        77.291925\n",
      "max       124.000000\n",
      "Name: Trihalomethanes, dtype: object \n",
      " ======================\n",
      "count    2011.000000\n",
      "mean        3.969729\n",
      "std         0.780346\n",
      "min         1.450000\n",
      "25%         3.442915\n",
      "50%         3.968177\n",
      "75%         4.514175\n",
      "max         6.494749\n",
      "Name: Turbidity, dtype: object \n",
      " ======================\n",
      "count    2011.000000\n",
      "mean        0.403282\n",
      "std         0.490678\n",
      "min         0.000000\n",
      "25%         0.000000\n",
      "50%         0.000000\n",
      "75%         1.000000\n",
      "max         1.000000\n",
      "Name: Potability, dtype: object \n",
      " ======================\n"
     ]
    },
    {
     "data": {
      "text/html": [
       "<div>\n",
       "<style scoped>\n",
       "    .dataframe tbody tr th:only-of-type {\n",
       "        vertical-align: middle;\n",
       "    }\n",
       "\n",
       "    .dataframe tbody tr th {\n",
       "        vertical-align: top;\n",
       "    }\n",
       "\n",
       "    .dataframe thead th {\n",
       "        text-align: right;\n",
       "    }\n",
       "</style>\n",
       "<table border=\"1\" class=\"dataframe\">\n",
       "  <thead>\n",
       "    <tr style=\"text-align: right;\">\n",
       "      <th></th>\n",
       "      <th>count</th>\n",
       "      <th>mean</th>\n",
       "      <th>std</th>\n",
       "      <th>min</th>\n",
       "      <th>25%</th>\n",
       "      <th>50%</th>\n",
       "      <th>75%</th>\n",
       "      <th>max</th>\n",
       "    </tr>\n",
       "  </thead>\n",
       "  <tbody>\n",
       "    <tr>\n",
       "      <th>ph</th>\n",
       "      <td>2011.0</td>\n",
       "      <td>7.09</td>\n",
       "      <td>1.57</td>\n",
       "      <td>0.23</td>\n",
       "      <td>6.09</td>\n",
       "      <td>7.03</td>\n",
       "      <td>8.05</td>\n",
       "      <td>14.00</td>\n",
       "    </tr>\n",
       "    <tr>\n",
       "      <th>Hardness</th>\n",
       "      <td>2011.0</td>\n",
       "      <td>195.97</td>\n",
       "      <td>32.64</td>\n",
       "      <td>73.49</td>\n",
       "      <td>176.74</td>\n",
       "      <td>197.19</td>\n",
       "      <td>216.44</td>\n",
       "      <td>317.34</td>\n",
       "    </tr>\n",
       "    <tr>\n",
       "      <th>Solids</th>\n",
       "      <td>2011.0</td>\n",
       "      <td>21917.44</td>\n",
       "      <td>8642.24</td>\n",
       "      <td>320.94</td>\n",
       "      <td>15615.67</td>\n",
       "      <td>20933.51</td>\n",
       "      <td>27182.59</td>\n",
       "      <td>56488.67</td>\n",
       "    </tr>\n",
       "    <tr>\n",
       "      <th>Chloramines</th>\n",
       "      <td>2011.0</td>\n",
       "      <td>7.13</td>\n",
       "      <td>1.58</td>\n",
       "      <td>1.39</td>\n",
       "      <td>6.14</td>\n",
       "      <td>7.14</td>\n",
       "      <td>8.11</td>\n",
       "      <td>13.13</td>\n",
       "    </tr>\n",
       "    <tr>\n",
       "      <th>Sulfate</th>\n",
       "      <td>2011.0</td>\n",
       "      <td>333.22</td>\n",
       "      <td>41.21</td>\n",
       "      <td>129.00</td>\n",
       "      <td>307.63</td>\n",
       "      <td>332.23</td>\n",
       "      <td>359.33</td>\n",
       "      <td>481.03</td>\n",
       "    </tr>\n",
       "    <tr>\n",
       "      <th>Conductivity</th>\n",
       "      <td>2011.0</td>\n",
       "      <td>426.53</td>\n",
       "      <td>80.71</td>\n",
       "      <td>201.62</td>\n",
       "      <td>366.68</td>\n",
       "      <td>423.46</td>\n",
       "      <td>482.37</td>\n",
       "      <td>753.34</td>\n",
       "    </tr>\n",
       "    <tr>\n",
       "      <th>Organic_carbon</th>\n",
       "      <td>2011.0</td>\n",
       "      <td>14.36</td>\n",
       "      <td>3.32</td>\n",
       "      <td>2.20</td>\n",
       "      <td>12.12</td>\n",
       "      <td>14.32</td>\n",
       "      <td>16.68</td>\n",
       "      <td>27.01</td>\n",
       "    </tr>\n",
       "    <tr>\n",
       "      <th>Trihalomethanes</th>\n",
       "      <td>2011.0</td>\n",
       "      <td>66.40</td>\n",
       "      <td>16.08</td>\n",
       "      <td>8.58</td>\n",
       "      <td>55.95</td>\n",
       "      <td>66.54</td>\n",
       "      <td>77.29</td>\n",
       "      <td>124.00</td>\n",
       "    </tr>\n",
       "    <tr>\n",
       "      <th>Turbidity</th>\n",
       "      <td>2011.0</td>\n",
       "      <td>3.97</td>\n",
       "      <td>0.78</td>\n",
       "      <td>1.45</td>\n",
       "      <td>3.44</td>\n",
       "      <td>3.97</td>\n",
       "      <td>4.51</td>\n",
       "      <td>6.49</td>\n",
       "    </tr>\n",
       "    <tr>\n",
       "      <th>Potability</th>\n",
       "      <td>2011.0</td>\n",
       "      <td>0.40</td>\n",
       "      <td>0.49</td>\n",
       "      <td>0.00</td>\n",
       "      <td>0.00</td>\n",
       "      <td>0.00</td>\n",
       "      <td>1.00</td>\n",
       "      <td>1.00</td>\n",
       "    </tr>\n",
       "  </tbody>\n",
       "</table>\n",
       "</div>"
      ],
      "text/plain": [
       "                  count      mean      std     min       25%       50%  \\\n",
       "ph               2011.0      7.09     1.57    0.23      6.09      7.03   \n",
       "Hardness         2011.0    195.97    32.64   73.49    176.74    197.19   \n",
       "Solids           2011.0  21917.44  8642.24  320.94  15615.67  20933.51   \n",
       "Chloramines      2011.0      7.13     1.58    1.39      6.14      7.14   \n",
       "Sulfate          2011.0    333.22    41.21  129.00    307.63    332.23   \n",
       "Conductivity     2011.0    426.53    80.71  201.62    366.68    423.46   \n",
       "Organic_carbon   2011.0     14.36     3.32    2.20     12.12     14.32   \n",
       "Trihalomethanes  2011.0     66.40    16.08    8.58     55.95     66.54   \n",
       "Turbidity        2011.0      3.97     0.78    1.45      3.44      3.97   \n",
       "Potability       2011.0      0.40     0.49    0.00      0.00      0.00   \n",
       "\n",
       "                      75%       max  \n",
       "ph                   8.05     14.00  \n",
       "Hardness           216.44    317.34  \n",
       "Solids           27182.59  56488.67  \n",
       "Chloramines          8.11     13.13  \n",
       "Sulfate            359.33    481.03  \n",
       "Conductivity       482.37    753.34  \n",
       "Organic_carbon      16.68     27.01  \n",
       "Trihalomethanes     77.29    124.00  \n",
       "Turbidity            4.51      6.49  \n",
       "Potability           1.00      1.00  "
      ]
     },
     "execution_count": 11,
     "metadata": {},
     "output_type": "execute_result"
    }
   ],
   "source": [
    "#  Statystyki\n",
    "for col in df.columns:\n",
    "    print(df[col].describe().apply(lambda x: format(x, 'f')).T, '\\n','======================')\n",
    "\n",
    "df.describe().round(2).T"
   ]
  },
  {
   "cell_type": "code",
   "execution_count": 12,
   "metadata": {},
   "outputs": [
    {
     "name": "stdout",
     "output_type": "stream",
     "text": [
      "Dla zmiennej  ph low = 3.144855430296987  , up = 10.997836820777836\n",
      "Dla zmiennej  ph wartosci odstajacych z gory jest:  0.7956240676280457 %.\n",
      "Wartosci odstajacych z dolu jest:  0.7458975634012929 % \n",
      "\n",
      "Dla zmiennej  Hardness low = 117.20073950080075  , up = 275.98526789178493\n",
      "Dla zmiennej  Hardness wartosci odstajacych z gory jest:  1.093983092988563 %.\n",
      "Wartosci odstajacych z dolu jest:  1.3426156141223273 % \n",
      "\n",
      "Dla zmiennej  Solids low = -1734.717124220855  , up = 44532.969581398465\n",
      "Dla zmiennej  Solids wartosci odstajacych z gory jest:  1.39234211834908 %.\n",
      "Wartosci odstajacych z dolu jest:  0.0 % \n",
      "\n",
      "Dla zmiennej  Chloramines low = 3.1826491396245804  , up = 11.065972268782946\n",
      "Dla zmiennej  Chloramines wartosci odstajacych z gory jest:  1.04425658876181 %.\n",
      "Wartosci odstajacych z dolu jest:  1.093983092988563 % \n",
      "\n",
      "Dla zmiennej  Sulfate low = 230.08544669106774  , up = 436.87761939587585\n",
      "Dla zmiennej  Sulfate wartosci odstajacych z gory jest:  0.8453505718547987 %.\n",
      "Wartosci odstajacych z dolu jest:  0.9945300845350571 % \n",
      "\n",
      "Dla zmiennej  Conductivity low = 193.1410156138346  , up = 655.9124603515212\n",
      "Dla zmiennej  Conductivity wartosci odstajacych z gory jest:  0.34808552958727 %.\n",
      "Wartosci odstajacych z dolu jest:  0.0 % \n",
      "\n",
      "Dla zmiennej  Organic_carbon low = 5.285688200005779  , up = 23.52146603582719\n",
      "Dla zmiennej  Organic_carbon wartosci odstajacych z gory jest:  0.24863252113376427 %.\n",
      "Wartosci odstajacych z dolu jest:  0.44753853804077576 % \n",
      "\n",
      "Dla zmiennej  Trihalomethanes low = 23.943771569770192  , up = 109.30081774009089\n",
      "Dla zmiennej  Trihalomethanes wartosci odstajacych z gory jest:  0.49726504226752855 %.\n",
      "Wartosci odstajacych z dolu jest:  0.5967180507210343 % \n",
      "\n",
      "Dla zmiennej  Turbidity low = 1.8360255786323214  , up = 6.121065175419952\n",
      "Dla zmiennej  Turbidity wartosci odstajacych z gory jest:  0.29835902536051717 %.\n",
      "Wartosci odstajacych z dolu jest:  0.24863252113376427 % \n",
      "\n",
      "Dla zmiennej  Potability low = -1.5  , up = 2.5\n",
      "Dla zmiennej  Potability wartosci odstajacych z gory jest:  0.0 %.\n",
      "Wartosci odstajacych z dolu jest:  0.0 % \n",
      "\n"
     ]
    }
   ],
   "source": [
    "# metodą IQR zamieniamy anomalie na wasy\n",
    "for col in df.columns:\n",
    "    Q1 = df[col].quantile(0.25)\n",
    "    Q3 = df[col].quantile(0.75)\n",
    "    IQR = Q3 - Q1\n",
    "    low = Q1 - 1.5 * IQR\n",
    "    up = Q3 + 1.5 * IQR\n",
    "    print(\"Dla zmiennej \", col, \"low =\" ,low, \" , up =\", up)\n",
    "    lowp = df[df[col]<low].shape[0]/df.shape[0]*100\n",
    "    upp = df[df[col]>up].shape[0]/df.shape[0]*100\n",
    "    print(\"Dla zmiennej \", col, \"wartosci odstajacych z gory jest: \", upp,\"%.\")\n",
    "    print(\"Wartosci odstajacych z dolu jest: \", lowp, \"%\",'\\n')"
   ]
  },
  {
   "cell_type": "code",
   "execution_count": 13,
   "metadata": {},
   "outputs": [],
   "source": [
    "for col in df.columns[:-1]:\n",
    "    Q1 = df[col].quantile(0.25)\n",
    "    Q3 = df[col].quantile(0.75)\n",
    "    IQR = Q3 - Q1\n",
    "    low = Q1 - 1.5 * IQR\n",
    "    up = Q3 + 1.5 * IQR\n",
    "    df.loc[df[col] > up, col] = up\n",
    "    df.loc[df[col] < low, col] = low"
   ]
  },
  {
   "cell_type": "code",
   "execution_count": 14,
   "metadata": {},
   "outputs": [
    {
     "name": "stdout",
     "output_type": "stream",
     "text": [
      "                       ph  Hardness    Solids  Chloramines   Sulfate  \\\n",
      "ph               1.000000  0.114481 -0.088930    -0.029831  0.011037   \n",
      "Hardness         0.114481  1.000000 -0.050965    -0.022898 -0.105092   \n",
      "Solids          -0.088930 -0.050965  1.000000    -0.052275 -0.153003   \n",
      "Chloramines     -0.029831 -0.022898 -0.052275     1.000000  0.015692   \n",
      "Sulfate          0.011037 -0.105092 -0.153003     0.015692  1.000000   \n",
      "Conductivity     0.013825  0.011573 -0.006093    -0.029401 -0.014049   \n",
      "Organic_carbon   0.025224  0.012793 -0.003798    -0.020838  0.022624   \n",
      "Trihalomethanes  0.016636 -0.016693 -0.017519     0.012128 -0.022721   \n",
      "Turbidity       -0.034174 -0.036554  0.021253     0.012040 -0.007596   \n",
      "Potability       0.017873  0.001312  0.038995     0.019211 -0.012533   \n",
      "\n",
      "                 Conductivity  Organic_carbon  Trihalomethanes  Turbidity  \\\n",
      "ph                   0.013825        0.025224         0.016636  -0.034174   \n",
      "Hardness             0.011573        0.012793        -0.016693  -0.036554   \n",
      "Solids              -0.006093       -0.003798        -0.017519   0.021253   \n",
      "Chloramines         -0.029401       -0.020838         0.012128   0.012040   \n",
      "Sulfate             -0.014049        0.022624        -0.022721  -0.007596   \n",
      "Conductivity         1.000000        0.015376         0.004815   0.012736   \n",
      "Organic_carbon       0.015376        1.000000        -0.005092  -0.015858   \n",
      "Trihalomethanes      0.004815       -0.005092         1.000000  -0.020751   \n",
      "Turbidity            0.012736       -0.015858        -0.020751   1.000000   \n",
      "Potability          -0.014993       -0.014780         0.008967   0.022218   \n",
      "\n",
      "                 Potability  \n",
      "ph                 0.017873  \n",
      "Hardness           0.001312  \n",
      "Solids             0.038995  \n",
      "Chloramines        0.019211  \n",
      "Sulfate           -0.012533  \n",
      "Conductivity      -0.014993  \n",
      "Organic_carbon    -0.014780  \n",
      "Trihalomethanes    0.008967  \n",
      "Turbidity          0.022218  \n",
      "Potability         1.000000  \n"
     ]
    }
   ],
   "source": [
    "# Korelacja\n",
    "korelacja_P = df.corr('pearson')\n",
    "print(korelacja_P)"
   ]
  },
  {
   "cell_type": "code",
   "execution_count": 15,
   "metadata": {},
   "outputs": [
    {
     "name": "stdout",
     "output_type": "stream",
     "text": [
      "                       ph  Hardness    Solids  Chloramines   Sulfate  \\\n",
      "ph               1.000000  0.138864 -0.079869    -0.038193  0.015850   \n",
      "Hardness         0.138864  1.000000 -0.049729    -0.019885 -0.096206   \n",
      "Solids          -0.079869 -0.049729  1.000000    -0.040835 -0.143259   \n",
      "Chloramines     -0.038193 -0.019885 -0.040835     1.000000  0.024098   \n",
      "Sulfate          0.015850 -0.096206 -0.143259     0.024098  1.000000   \n",
      "Conductivity     0.008990  0.001242  0.005454    -0.021567 -0.020661   \n",
      "Organic_carbon   0.026176  0.011449  0.004072    -0.020429  0.016831   \n",
      "Trihalomethanes  0.018000 -0.021809 -0.022410     0.015523 -0.027469   \n",
      "Turbidity       -0.046441 -0.028602  0.024041     0.001658 -0.012564   \n",
      "Potability       0.014048  0.008643  0.034983     0.021662 -0.008997   \n",
      "\n",
      "                 Conductivity  Organic_carbon  Trihalomethanes  Turbidity  \\\n",
      "ph                   0.008990        0.026176         0.018000  -0.046441   \n",
      "Hardness             0.001242        0.011449        -0.021809  -0.028602   \n",
      "Solids               0.005454        0.004072        -0.022410   0.024041   \n",
      "Chloramines         -0.021567       -0.020429         0.015523   0.001658   \n",
      "Sulfate             -0.020661        0.016831        -0.027469  -0.012564   \n",
      "Conductivity         1.000000        0.016721        -0.006262   0.019968   \n",
      "Organic_carbon       0.016721        1.000000        -0.004277  -0.010540   \n",
      "Trihalomethanes     -0.006262       -0.004277         1.000000  -0.022874   \n",
      "Turbidity            0.019968       -0.010540        -0.022874   1.000000   \n",
      "Potability          -0.017840       -0.014018         0.003692   0.022443   \n",
      "\n",
      "                 Potability  \n",
      "ph                 0.014048  \n",
      "Hardness           0.008643  \n",
      "Solids             0.034983  \n",
      "Chloramines        0.021662  \n",
      "Sulfate           -0.008997  \n",
      "Conductivity      -0.017840  \n",
      "Organic_carbon    -0.014018  \n",
      "Trihalomethanes    0.003692  \n",
      "Turbidity          0.022443  \n",
      "Potability         1.000000  \n"
     ]
    }
   ],
   "source": [
    "korelacja_S = df.corr('spearman')\n",
    "print(korelacja_S)"
   ]
  },
  {
   "cell_type": "code",
   "execution_count": 16,
   "metadata": {},
   "outputs": [
    {
     "name": "stderr",
     "output_type": "stream",
     "text": [
      "<ipython-input-16-5f87e9b70c42>:2: DeprecationWarning: `np.bool` is a deprecated alias for the builtin `bool`. To silence this warning, use `bool` by itself. Doing this will not modify any behavior and is safe. If you specifically wanted the numpy scalar type, use `np.bool_` here.\n",
      "Deprecated in NumPy 1.20; for more details and guidance: https://numpy.org/devdocs/release/1.20.0-notes.html#deprecations\n",
      "  korelacja_P_tr = korelacja_P.where(np.triu(np.ones(korelacja_P.shape, dtype=np.bool), k=1)).stack().sort_values()\n"
     ]
    },
    {
     "data": {
      "text/plain": [
       "Solids    Sulfate    -0.153003\n",
       "Hardness  Sulfate    -0.105092\n",
       "ph        Hardness    0.114481\n",
       "dtype: float64"
      ]
     },
     "execution_count": 16,
     "metadata": {},
     "output_type": "execute_result"
    }
   ],
   "source": [
    "#tworzymy macierz trójkątną i wyświetlamy wspóczynnik korelacji większy od 0.5\n",
    "korelacja_P_tr = korelacja_P.where(np.triu(np.ones(korelacja_P.shape, dtype=np.bool), k=1)).stack().sort_values()\n",
    "korelacja_P_tr[abs(korelacja_P_tr)>0.1]"
   ]
  },
  {
   "cell_type": "code",
   "execution_count": 18,
   "metadata": {},
   "outputs": [
    {
     "data": {
      "image/png": "[encoded data removed]",
      "text/plain": [
       "<Figure size 360x360 with 2 Axes>"
      ]
     },
     "metadata": {
      "needs_background": "light"
     },
     "output_type": "display_data"
    }
   ],
   "source": [
    "plt.figure(figsize=(5,5))\n",
    "ax = sns.heatmap(korelacja_P, square=True, annot=True, fmt='.2f')\n",
    "ax.set_xticklabels(ax.get_xticklabels(), rotation=90)\n",
    "plt.show()"
   ]
  },
  {
   "cell_type": "code",
   "execution_count": 19,
   "metadata": {},
   "outputs": [
    {
     "data": {
      "image/png": "[encoded data removed]",
      "text/plain": [
       "<Figure size 360x360 with 2 Axes>"
      ]
     },
     "metadata": {
      "needs_background": "light"
     },
     "output_type": "display_data"
    }
   ],
   "source": [
    "plt.figure(figsize=(5,5))\n",
    "ax = sns.heatmap(korelacja_S, square=True, annot=True, fmt='.2f')\n",
    "ax.set_xticklabels(ax.get_xticklabels(), rotation=90)\n",
    "plt.show()"
   ]
  },
  {
   "cell_type": "code",
   "execution_count": 38,
   "metadata": {},
   "outputs": [
    {
     "data": {
      "text/plain": [
       "7.086981314622033"
      ]
     },
     "execution_count": 38,
     "metadata": {},
     "output_type": "execute_result"
    }
   ],
   "source": [
    "df.describe()['ph']['mean']"
   ]
  },
  {
   "cell_type": "code",
   "execution_count": 32,
   "metadata": {},
   "outputs": [
    {
     "data": {
      "text/html": [
       "<div>\n",
       "<style scoped>\n",
       "    .dataframe tbody tr th:only-of-type {\n",
       "        vertical-align: middle;\n",
       "    }\n",
       "\n",
       "    .dataframe tbody tr th {\n",
       "        vertical-align: top;\n",
       "    }\n",
       "\n",
       "    .dataframe thead th {\n",
       "        text-align: right;\n",
       "    }\n",
       "</style>\n",
       "<table border=\"1\" class=\"dataframe\">\n",
       "  <thead>\n",
       "    <tr style=\"text-align: right;\">\n",
       "      <th></th>\n",
       "      <th>count</th>\n",
       "      <th>mean</th>\n",
       "      <th>std</th>\n",
       "      <th>min</th>\n",
       "      <th>25%</th>\n",
       "      <th>50%</th>\n",
       "      <th>75%</th>\n",
       "      <th>max</th>\n",
       "    </tr>\n",
       "  </thead>\n",
       "  <tbody>\n",
       "    <tr>\n",
       "      <th>ph</th>\n",
       "      <td>2011.0</td>\n",
       "      <td>7.086981</td>\n",
       "      <td>1.533698</td>\n",
       "      <td>3.144855</td>\n",
       "      <td>6.089723</td>\n",
       "      <td>7.027297</td>\n",
       "      <td>8.052969</td>\n",
       "      <td>10.997837</td>\n",
       "    </tr>\n",
       "    <tr>\n",
       "      <th>Hardness</th>\n",
       "      <td>2011.0</td>\n",
       "      <td>196.055749</td>\n",
       "      <td>31.899336</td>\n",
       "      <td>117.200740</td>\n",
       "      <td>176.744938</td>\n",
       "      <td>197.191839</td>\n",
       "      <td>216.441070</td>\n",
       "      <td>275.985268</td>\n",
       "    </tr>\n",
       "    <tr>\n",
       "      <th>Solids</th>\n",
       "      <td>2011.0</td>\n",
       "      <td>21868.637825</td>\n",
       "      <td>8493.143737</td>\n",
       "      <td>320.942611</td>\n",
       "      <td>15615.665390</td>\n",
       "      <td>20933.512750</td>\n",
       "      <td>27182.587067</td>\n",
       "      <td>44532.969581</td>\n",
       "    </tr>\n",
       "    <tr>\n",
       "      <th>Chloramines</th>\n",
       "      <td>2011.0</td>\n",
       "      <td>7.131934</td>\n",
       "      <td>1.545770</td>\n",
       "      <td>3.182649</td>\n",
       "      <td>6.138895</td>\n",
       "      <td>7.143907</td>\n",
       "      <td>8.109726</td>\n",
       "      <td>11.065972</td>\n",
       "    </tr>\n",
       "    <tr>\n",
       "      <th>Sulfate</th>\n",
       "      <td>2011.0</td>\n",
       "      <td>333.347354</td>\n",
       "      <td>40.067552</td>\n",
       "      <td>230.085447</td>\n",
       "      <td>307.632511</td>\n",
       "      <td>332.232177</td>\n",
       "      <td>359.330555</td>\n",
       "      <td>436.877619</td>\n",
       "    </tr>\n",
       "    <tr>\n",
       "      <th>Conductivity</th>\n",
       "      <td>2011.0</td>\n",
       "      <td>426.418770</td>\n",
       "      <td>80.362231</td>\n",
       "      <td>201.619737</td>\n",
       "      <td>366.680307</td>\n",
       "      <td>423.455906</td>\n",
       "      <td>482.373169</td>\n",
       "      <td>655.912460</td>\n",
       "    </tr>\n",
       "    <tr>\n",
       "      <th>Organic_carbon</th>\n",
       "      <td>2011.0</td>\n",
       "      <td>14.358055</td>\n",
       "      <td>3.307772</td>\n",
       "      <td>5.285688</td>\n",
       "      <td>12.124105</td>\n",
       "      <td>14.322019</td>\n",
       "      <td>16.683049</td>\n",
       "      <td>23.521466</td>\n",
       "    </tr>\n",
       "    <tr>\n",
       "      <th>Trihalomethanes</th>\n",
       "      <td>2011.0</td>\n",
       "      <td>66.407119</td>\n",
       "      <td>15.900017</td>\n",
       "      <td>23.943772</td>\n",
       "      <td>55.952664</td>\n",
       "      <td>66.542198</td>\n",
       "      <td>77.291925</td>\n",
       "      <td>109.300818</td>\n",
       "    </tr>\n",
       "    <tr>\n",
       "      <th>Turbidity</th>\n",
       "      <td>2011.0</td>\n",
       "      <td>3.969582</td>\n",
       "      <td>0.776245</td>\n",
       "      <td>1.836026</td>\n",
       "      <td>3.442915</td>\n",
       "      <td>3.968177</td>\n",
       "      <td>4.514175</td>\n",
       "      <td>6.121065</td>\n",
       "    </tr>\n",
       "    <tr>\n",
       "      <th>Potability</th>\n",
       "      <td>2011.0</td>\n",
       "      <td>0.403282</td>\n",
       "      <td>0.490678</td>\n",
       "      <td>0.000000</td>\n",
       "      <td>0.000000</td>\n",
       "      <td>0.000000</td>\n",
       "      <td>1.000000</td>\n",
       "      <td>1.000000</td>\n",
       "    </tr>\n",
       "  </tbody>\n",
       "</table>\n",
       "</div>"
      ],
      "text/plain": [
       "                  count          mean          std         min           25%  \\\n",
       "ph               2011.0      7.086981     1.533698    3.144855      6.089723   \n",
       "Hardness         2011.0    196.055749    31.899336  117.200740    176.744938   \n",
       "Solids           2011.0  21868.637825  8493.143737  320.942611  15615.665390   \n",
       "Chloramines      2011.0      7.131934     1.545770    3.182649      6.138895   \n",
       "Sulfate          2011.0    333.347354    40.067552  230.085447    307.632511   \n",
       "Conductivity     2011.0    426.418770    80.362231  201.619737    366.680307   \n",
       "Organic_carbon   2011.0     14.358055     3.307772    5.285688     12.124105   \n",
       "Trihalomethanes  2011.0     66.407119    15.900017   23.943772     55.952664   \n",
       "Turbidity        2011.0      3.969582     0.776245    1.836026      3.442915   \n",
       "Potability       2011.0      0.403282     0.490678    0.000000      0.000000   \n",
       "\n",
       "                          50%           75%           max  \n",
       "ph                   7.027297      8.052969     10.997837  \n",
       "Hardness           197.191839    216.441070    275.985268  \n",
       "Solids           20933.512750  27182.587067  44532.969581  \n",
       "Chloramines          7.143907      8.109726     11.065972  \n",
       "Sulfate            332.232177    359.330555    436.877619  \n",
       "Conductivity       423.455906    482.373169    655.912460  \n",
       "Organic_carbon      14.322019     16.683049     23.521466  \n",
       "Trihalomethanes     66.542198     77.291925    109.300818  \n",
       "Turbidity            3.968177      4.514175      6.121065  \n",
       "Potability           0.000000      1.000000      1.000000  "
      ]
     },
     "execution_count": 32,
     "metadata": {},
     "output_type": "execute_result"
    }
   ],
   "source": [
    "df.describe().T"
   ]
  },
  {
   "cell_type": "code",
   "execution_count": 20,
   "metadata": {},
   "outputs": [],
   "source": [
    "# Podział zbioru\n",
    "X = df.drop(labels=['Potability'], axis=1)\n",
    "Y = df.iloc[:, 9]"
   ]
  },
  {
   "cell_type": "code",
   "execution_count": 39,
   "metadata": {},
   "outputs": [
    {
     "data": {
      "text/plain": [
       "array([0], dtype=int64)"
      ]
     },
     "execution_count": 39,
     "metadata": {},
     "output_type": "execute_result"
    }
   ],
   "source": [
    "clf = svm.SVC()\n",
    "\n",
    "clf.fit(X, Y)\n",
    "\n",
    "clf.predict([[df.describe()['ph']['mean'], df.describe()['Hardness']['mean'], df.describe()['Solids']['mean'],\n",
    "              df.describe()['Chloramines']['mean'], df.describe()['Sulfate']['mean'], df.describe()['Conductivity']['mean'],\n",
    "              df.describe()['Organic_carbon']['mean'], df.describe()['Trihalomethanes']['mean'], df.describe()['Turbidity']['mean']]])"
   ]
  },
  {
   "cell_type": "code",
   "execution_count": 22,
   "metadata": {},
   "outputs": [
    {
     "name": "stdout",
     "output_type": "stream",
     "text": [
      "(1608, 9)\n",
      "(403, 9)\n",
      "(1608,)\n",
      "(403,)\n"
     ]
    }
   ],
   "source": [
    "X_ucz, X_test, Y_ucz, Y_test = sklearn.model_selection.train_test_split(X, Y, test_size=0.2, random_state=12345)\n",
    "print(X_ucz.shape)\n",
    "print(X_test.shape)\n",
    "print(Y_ucz.shape)\n",
    "print(Y_test.shape)"
   ]
  },
  {
   "cell_type": "code",
   "execution_count": null,
   "metadata": {},
   "outputs": [],
   "source": [
    "# zbalansowac dane, uzyc metryk sprawdzajacych model, lepiej ogarnac nulle i wartosci odstajace\n",
    "# regresja lasso ridge, optuna, standaryzacja"
   ]
  },
  {
   "cell_type": "code",
   "execution_count": 40,
   "metadata": {},
   "outputs": [],
   "source": [
    "from sklearn import preprocessing\n",
    "import numpy as np"
   ]
  },
  {
   "cell_type": "code",
   "execution_count": null,
   "metadata": {},
   "outputs": [],
   "source": []
  },
  {
   "cell_type": "code",
   "execution_count": null,
   "metadata": {},
   "outputs": [],
   "source": []
  },
  {
   "cell_type": "code",
   "execution_count": null,
   "metadata": {},
   "outputs": [],
   "source": []
  },
  {
   "cell_type": "code",
   "execution_count": null,
   "metadata": {},
   "outputs": [],
   "source": []
  },
  {
   "cell_type": "code",
   "execution_count": null,
   "metadata": {},
   "outputs": [],
   "source": []
  },
  {
   "cell_type": "code",
   "execution_count": null,
   "metadata": {},
   "outputs": [],
   "source": []
  },
  {
   "cell_type": "code",
   "execution_count": null,
   "metadata": {},
   "outputs": [],
   "source": []
  },
  {
   "cell_type": "code",
   "execution_count": null,
   "metadata": {},
   "outputs": [],
   "source": []
  },
  {
   "cell_type": "code",
   "execution_count": null,
   "metadata": {},
   "outputs": [],
   "source": []
  }
 ],
 "metadata": {
  "kernelspec": {
   "display_name": "Python 3",
   "language": "python",
   "name": "python3"
  },
  "language_info": {
   "codemirror_mode": {
    "name": "ipython",
    "version": 3
   },
   "file_extension": ".py",
   "mimetype": "text/x-python",
   "name": "python",
   "nbconvert_exporter": "python",
   "pygments_lexer": "ipython3",
   "version": "3.8.3"
  }
 },
 "nbformat": 4,
 "nbformat_minor": 4
}
