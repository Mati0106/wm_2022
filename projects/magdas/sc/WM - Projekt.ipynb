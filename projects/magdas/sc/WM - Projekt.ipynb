{
 "cells": [
  {
   "cell_type": "code",
   "execution_count": 1,
   "id": "a671ce20",
   "metadata": {},
   "outputs": [],
   "source": [
    "import pandas as pd\n",
    "import numpy as np\n",
    "# from pandas_profiling import ProfileReport\n",
    "import ipywidgets as widgets\n",
    "from ipywidgets import interact\n",
    "import plotly.express as px\n",
    "import seaborn as sns\n",
    "from matplotlib import pyplot as plt\n",
    "from sklearn import svm\n",
    "from sklearn.model_selection import train_test_split\n",
    "from sklearn import preprocessing\n",
    "import seaborn as sns\n",
    "from sklearn.tree import DecisionTreeClassifier\n",
    "from sklearn.metrics import accuracy_score\n",
    "from sklearn.model_selection import GridSearchCV"
   ]
  },
  {
   "cell_type": "code",
   "execution_count": 2,
   "id": "edd980e8",
   "metadata": {},
   "outputs": [],
   "source": [
    "from sklearn import metrics\n",
    "from sklearn.decomposition import PCA"
   ]
  },
  {
   "cell_type": "code",
   "execution_count": 3,
   "id": "8cdf9a1e",
   "metadata": {},
   "outputs": [],
   "source": [
    "def read(path):\n",
    "    \"\"\"\n",
    "    wczytanie danych i usunięcie zbędnych kolumn\n",
    "    \"\"\"\n",
    "    df = pd.read_csv(path)\n",
    "    df = df.drop(['email', 'phone-number', 'credit_card', 'name'], axis = 1)\n",
    "    df.loc[(df.hotel == 'City Hotel'), 'hotel'] = 0\n",
    "    df.loc[(df.hotel == 'Resort Hotel'), 'hotel'] = 1\n",
    "    return df"
   ]
  },
  {
   "cell_type": "code",
   "execution_count": 4,
   "id": "024784f0",
   "metadata": {},
   "outputs": [],
   "source": [
    "df = read(r'C:\\Users\\User\\Desktop\\repozytoria\\wm_2022\\projects\\magdas\\data\\hotel_booking.csv')"
   ]
  },
  {
   "cell_type": "markdown",
   "id": "06a3f44e",
   "metadata": {},
   "source": [
    "Dodać Pandas Profiling + wnioski z niego\n",
    "przejść na VS Code\n",
    "optymalizacja parametrów\n",
    "crossvalidation\n",
    "lasy losowe\n",
    "k-nn ???\n",
    "sieć neuronowa\n",
    "regresja logistyczna"
   ]
  },
  {
   "cell_type": "code",
   "execution_count": 5,
   "id": "9c536a10",
   "metadata": {},
   "outputs": [
    {
     "data": {
      "text/html": [
       "<div>\n",
       "<style scoped>\n",
       "    .dataframe tbody tr th:only-of-type {\n",
       "        vertical-align: middle;\n",
       "    }\n",
       "\n",
       "    .dataframe tbody tr th {\n",
       "        vertical-align: top;\n",
       "    }\n",
       "\n",
       "    .dataframe thead th {\n",
       "        text-align: right;\n",
       "    }\n",
       "</style>\n",
       "<table border=\"1\" class=\"dataframe\">\n",
       "  <thead>\n",
       "    <tr style=\"text-align: right;\">\n",
       "      <th></th>\n",
       "      <th>hotel</th>\n",
       "      <th>is_canceled</th>\n",
       "      <th>lead_time</th>\n",
       "      <th>arrival_date_year</th>\n",
       "      <th>arrival_date_month</th>\n",
       "      <th>arrival_date_week_number</th>\n",
       "      <th>arrival_date_day_of_month</th>\n",
       "      <th>stays_in_weekend_nights</th>\n",
       "      <th>stays_in_week_nights</th>\n",
       "      <th>adults</th>\n",
       "      <th>...</th>\n",
       "      <th>deposit_type</th>\n",
       "      <th>agent</th>\n",
       "      <th>company</th>\n",
       "      <th>days_in_waiting_list</th>\n",
       "      <th>customer_type</th>\n",
       "      <th>adr</th>\n",
       "      <th>required_car_parking_spaces</th>\n",
       "      <th>total_of_special_requests</th>\n",
       "      <th>reservation_status</th>\n",
       "      <th>reservation_status_date</th>\n",
       "    </tr>\n",
       "  </thead>\n",
       "  <tbody>\n",
       "    <tr>\n",
       "      <th>0</th>\n",
       "      <td>1</td>\n",
       "      <td>0</td>\n",
       "      <td>342</td>\n",
       "      <td>2015</td>\n",
       "      <td>July</td>\n",
       "      <td>27</td>\n",
       "      <td>1</td>\n",
       "      <td>0</td>\n",
       "      <td>0</td>\n",
       "      <td>2</td>\n",
       "      <td>...</td>\n",
       "      <td>No Deposit</td>\n",
       "      <td>NaN</td>\n",
       "      <td>NaN</td>\n",
       "      <td>0</td>\n",
       "      <td>Transient</td>\n",
       "      <td>0.0</td>\n",
       "      <td>0</td>\n",
       "      <td>0</td>\n",
       "      <td>Check-Out</td>\n",
       "      <td>2015-07-01</td>\n",
       "    </tr>\n",
       "    <tr>\n",
       "      <th>1</th>\n",
       "      <td>1</td>\n",
       "      <td>0</td>\n",
       "      <td>737</td>\n",
       "      <td>2015</td>\n",
       "      <td>July</td>\n",
       "      <td>27</td>\n",
       "      <td>1</td>\n",
       "      <td>0</td>\n",
       "      <td>0</td>\n",
       "      <td>2</td>\n",
       "      <td>...</td>\n",
       "      <td>No Deposit</td>\n",
       "      <td>NaN</td>\n",
       "      <td>NaN</td>\n",
       "      <td>0</td>\n",
       "      <td>Transient</td>\n",
       "      <td>0.0</td>\n",
       "      <td>0</td>\n",
       "      <td>0</td>\n",
       "      <td>Check-Out</td>\n",
       "      <td>2015-07-01</td>\n",
       "    </tr>\n",
       "    <tr>\n",
       "      <th>2</th>\n",
       "      <td>1</td>\n",
       "      <td>0</td>\n",
       "      <td>7</td>\n",
       "      <td>2015</td>\n",
       "      <td>July</td>\n",
       "      <td>27</td>\n",
       "      <td>1</td>\n",
       "      <td>0</td>\n",
       "      <td>1</td>\n",
       "      <td>1</td>\n",
       "      <td>...</td>\n",
       "      <td>No Deposit</td>\n",
       "      <td>NaN</td>\n",
       "      <td>NaN</td>\n",
       "      <td>0</td>\n",
       "      <td>Transient</td>\n",
       "      <td>75.0</td>\n",
       "      <td>0</td>\n",
       "      <td>0</td>\n",
       "      <td>Check-Out</td>\n",
       "      <td>2015-07-02</td>\n",
       "    </tr>\n",
       "    <tr>\n",
       "      <th>3</th>\n",
       "      <td>1</td>\n",
       "      <td>0</td>\n",
       "      <td>13</td>\n",
       "      <td>2015</td>\n",
       "      <td>July</td>\n",
       "      <td>27</td>\n",
       "      <td>1</td>\n",
       "      <td>0</td>\n",
       "      <td>1</td>\n",
       "      <td>1</td>\n",
       "      <td>...</td>\n",
       "      <td>No Deposit</td>\n",
       "      <td>304.0</td>\n",
       "      <td>NaN</td>\n",
       "      <td>0</td>\n",
       "      <td>Transient</td>\n",
       "      <td>75.0</td>\n",
       "      <td>0</td>\n",
       "      <td>0</td>\n",
       "      <td>Check-Out</td>\n",
       "      <td>2015-07-02</td>\n",
       "    </tr>\n",
       "    <tr>\n",
       "      <th>4</th>\n",
       "      <td>1</td>\n",
       "      <td>0</td>\n",
       "      <td>14</td>\n",
       "      <td>2015</td>\n",
       "      <td>July</td>\n",
       "      <td>27</td>\n",
       "      <td>1</td>\n",
       "      <td>0</td>\n",
       "      <td>2</td>\n",
       "      <td>2</td>\n",
       "      <td>...</td>\n",
       "      <td>No Deposit</td>\n",
       "      <td>240.0</td>\n",
       "      <td>NaN</td>\n",
       "      <td>0</td>\n",
       "      <td>Transient</td>\n",
       "      <td>98.0</td>\n",
       "      <td>0</td>\n",
       "      <td>1</td>\n",
       "      <td>Check-Out</td>\n",
       "      <td>2015-07-03</td>\n",
       "    </tr>\n",
       "  </tbody>\n",
       "</table>\n",
       "<p>5 rows × 32 columns</p>\n",
       "</div>"
      ],
      "text/plain": [
       "  hotel  is_canceled  lead_time  arrival_date_year arrival_date_month  \\\n",
       "0     1            0        342               2015               July   \n",
       "1     1            0        737               2015               July   \n",
       "2     1            0          7               2015               July   \n",
       "3     1            0         13               2015               July   \n",
       "4     1            0         14               2015               July   \n",
       "\n",
       "   arrival_date_week_number  arrival_date_day_of_month  \\\n",
       "0                        27                          1   \n",
       "1                        27                          1   \n",
       "2                        27                          1   \n",
       "3                        27                          1   \n",
       "4                        27                          1   \n",
       "\n",
       "   stays_in_weekend_nights  stays_in_week_nights  adults  ...  deposit_type  \\\n",
       "0                        0                     0       2  ...    No Deposit   \n",
       "1                        0                     0       2  ...    No Deposit   \n",
       "2                        0                     1       1  ...    No Deposit   \n",
       "3                        0                     1       1  ...    No Deposit   \n",
       "4                        0                     2       2  ...    No Deposit   \n",
       "\n",
       "   agent company days_in_waiting_list customer_type   adr  \\\n",
       "0    NaN     NaN                    0     Transient   0.0   \n",
       "1    NaN     NaN                    0     Transient   0.0   \n",
       "2    NaN     NaN                    0     Transient  75.0   \n",
       "3  304.0     NaN                    0     Transient  75.0   \n",
       "4  240.0     NaN                    0     Transient  98.0   \n",
       "\n",
       "   required_car_parking_spaces  total_of_special_requests  reservation_status  \\\n",
       "0                            0                          0           Check-Out   \n",
       "1                            0                          0           Check-Out   \n",
       "2                            0                          0           Check-Out   \n",
       "3                            0                          0           Check-Out   \n",
       "4                            0                          1           Check-Out   \n",
       "\n",
       "  reservation_status_date  \n",
       "0              2015-07-01  \n",
       "1              2015-07-01  \n",
       "2              2015-07-02  \n",
       "3              2015-07-02  \n",
       "4              2015-07-03  \n",
       "\n",
       "[5 rows x 32 columns]"
      ]
     },
     "execution_count": 5,
     "metadata": {},
     "output_type": "execute_result"
    }
   ],
   "source": [
    "df.head()"
   ]
  },
  {
   "cell_type": "markdown",
   "id": "e7d8ca0c",
   "metadata": {},
   "source": [
    "Dane pochodzą ze źródła: https://www.kaggle.com/datasets/mojtaba142/hotel-booking\n",
    "Kolumny w zbiorze danych:\n",
    "- hotel - określa hotel, w którym dokonano rezerwacji (tylko dwa hotele)\n",
    "- is_canceled - czy rezerwacja została anulowana (1) czy nie (0)\n",
    "- lead_time - ilość dni między złożeniem rezerwacji a dniem przyjazdu\n",
    "- arrival_date_year \n",
    "- arrival_date_month\n",
    "- arrival_date_week_number\n",
    "- arrival_date_day_of_month\n",
    "- stays_in_weekend_nights \n",
    "- stays_in_week_nights \n",
    "- adults \n",
    "- children \n",
    "- babies\n",
    "- meal\n",
    "- country\n",
    "- market_segment - TA: Travel Agent, TO - Tour Operators\n",
    "- distribution_channel\n",
    "- is_repeated_guest  \n",
    "- previous_cancellations\n",
    "- previous_bookings_not_canceled\n",
    "- reserved_room_type\n",
    "- assigned_room_type\n",
    "- booking_changes - ilość zmian\n",
    "- deposit_type \n",
    "- agent\n",
    "- company\n",
    "- days_in_waiting_list\n",
    "- customer_type - Group: gdy rezerwacja jest częścią grupy lub kontraktu lub Transient: gdy rezerwacja nie jest częścią grupy lub kontraktu i nie jest powiązana z inną grupą\n",
    "- adr - Average Daily Rate: suma wszystkich transakcji noclegowych / łączną liczbę noclegów\n",
    "- required_car_parking_spaces\n",
    "- total_of_special_requests\n",
    "- reservation_status\n",
    "- reservation_status_date"
   ]
  },
  {
   "cell_type": "code",
   "execution_count": 6,
   "id": "2ec52396",
   "metadata": {},
   "outputs": [
    {
     "data": {
      "image/png": "[encoded data removed]",
      "text/plain": [
       "<Figure size 432x288 with 1 Axes>"
      ]
     },
     "metadata": {
      "needs_background": "light"
     },
     "output_type": "display_data"
    }
   ],
   "source": [
    "plt.bar([0,1],df['hotel'].groupby(df['is_canceled']).count())\n",
    "plt.title(\"Ilosc rezerwacji z podzialem na anulowane i nie\")\n",
    "\n",
    "plt.show()"
   ]
  },
  {
   "cell_type": "code",
   "execution_count": 7,
   "id": "5853f38c",
   "metadata": {},
   "outputs": [
    {
     "data": {
      "application/vnd.jupyter.widget-view+json": {
       "model_id": "697e29a75c4644f9a63567809964f569",
       "version_major": 2,
       "version_minor": 0
      },
      "text/plain": [
       "interactive(children=(Dropdown(description='kolumna', options=('lead_time', 'arrival_date_year', 'arrival_date…"
      ]
     },
     "metadata": {},
     "output_type": "display_data"
    }
   ],
   "source": [
    "@interact(kolumna = ['lead_time', 'arrival_date_year',\n",
    "       'arrival_date_month', 'arrival_date_week_number',\n",
    "       'arrival_date_day_of_month', 'stays_in_weekend_nights',\n",
    "       'stays_in_week_nights', 'adults', 'children', 'babies', \n",
    "       'previous_cancellations',\n",
    "       'previous_bookings_not_canceled', 'booking_changes', \n",
    "       'days_in_waiting_list', 'adr','required_car_parking_spaces', 'total_of_special_requests'])\n",
    "def draw_box_plot(kolumna):\n",
    "    histogram = px.histogram(data_frame=df, x=kolumna, barmode='relative', barnorm=None, histnorm='percent'\n",
    "             , color_discrete_sequence = ['lightblue']\n",
    "             , title=\"Histogram zmiennej \" + str(kolumna)\n",
    "             )\n",
    "    boxplot = px.box(data_frame=df,y=kolumna,title=\"Boxplot zmiennej \" + str(kolumna) )\n",
    "    return histogram.show(), boxplot.show()"
   ]
  },
  {
   "cell_type": "code",
   "execution_count": 8,
   "id": "5ac5c3be",
   "metadata": {},
   "outputs": [],
   "source": [
    "def IQR(dataframe, column):\n",
    "    q3, q1 = np.nanpercentile(dataframe[column], [75 ,25])\n",
    "    iqr = q3 - q1\n",
    "    dataframe.loc[((dataframe[column] > (q3 + iqr)) | (dataframe[column] < (q3 - iqr))), column] = None\n",
    "    return dataframe"
   ]
  },
  {
   "cell_type": "code",
   "execution_count": 9,
   "id": "2c336ffb",
   "metadata": {},
   "outputs": [],
   "source": [
    "def outliery(dataframe):\n",
    "    dataframe = IQR(dataframe, 'stays_in_weekend_nights')\n",
    "    dataframe = IQR(dataframe, 'stays_in_week_nights')\n",
    "    dataframe.loc[(dataframe['adults'] > 10), 'adults'] = None\n",
    "    dataframe.loc[(dataframe['children'] > 4), 'children'] = None\n",
    "    dataframe.loc[(dataframe['babies'] > 3), 'babies'] = None\n",
    "    dataframe.loc[(dataframe['adr'] > 600), 'adr'] = None\n",
    "    dataframe = IQR(dataframe, 'adr')\n",
    "    dataframe.loc[(dataframe['required_car_parking_spaces'] > 3), 'required_car_parking_spaces'] = None\n",
    "    return dataframe"
   ]
  },
  {
   "cell_type": "code",
   "execution_count": 10,
   "id": "075b8b24",
   "metadata": {},
   "outputs": [],
   "source": [
    "df_out = outliery(df)"
   ]
  },
  {
   "cell_type": "code",
   "execution_count": 11,
   "id": "93c27b2d",
   "metadata": {},
   "outputs": [
    {
     "data": {
      "text/plain": [
       "hotel                                  0\n",
       "is_canceled                            0\n",
       "lead_time                              0\n",
       "arrival_date_year                      0\n",
       "arrival_date_month                     0\n",
       "arrival_date_week_number               0\n",
       "arrival_date_day_of_month              0\n",
       "stays_in_weekend_nights              344\n",
       "stays_in_week_nights               12498\n",
       "adults                                12\n",
       "children                               5\n",
       "babies                                 2\n",
       "meal                                   0\n",
       "country                              488\n",
       "market_segment                         0\n",
       "distribution_channel                   0\n",
       "is_repeated_guest                      0\n",
       "previous_cancellations                 0\n",
       "previous_bookings_not_canceled         0\n",
       "reserved_room_type                     0\n",
       "assigned_room_type                     0\n",
       "booking_changes                        0\n",
       "deposit_type                           0\n",
       "agent                              16340\n",
       "company                           112593\n",
       "days_in_waiting_list                   0\n",
       "customer_type                          0\n",
       "adr                                37502\n",
       "required_car_parking_spaces            2\n",
       "total_of_special_requests              0\n",
       "reservation_status                     0\n",
       "reservation_status_date                0\n",
       "dtype: int64"
      ]
     },
     "execution_count": 11,
     "metadata": {},
     "output_type": "execute_result"
    }
   ],
   "source": [
    "df_out.isnull().sum()"
   ]
  },
  {
   "cell_type": "code",
   "execution_count": 12,
   "id": "a3d7e43b",
   "metadata": {},
   "outputs": [],
   "source": [
    "def braki(dataframe):\n",
    "    # usuwamy zmienną company, bo mamy 94% braków danych\n",
    "    dataframe = dataframe.drop(['company'], axis = 1)\n",
    "    dataframe.loc[(dataframe.agent.isnull()), 'agent'] = 'Brak'\n",
    "    dataframe.loc[(dataframe.adr.isnull()), 'adr'] = np.mean(dataframe.adr)\n",
    "    dataframe.loc[(dataframe.stays_in_week_nights.isnull()), 'stays_in_week_nights'] = np.mean(dataframe.stays_in_week_nights)\n",
    "    dataframe.loc[(dataframe.lead_time.isnull()), 'stays_in_week_nights'] = np.mean(dataframe.lead_time)\n",
    "    # Usuwamy pozostałe rekordy < 1%\n",
    "    dataframe = dataframe.dropna()\n",
    "    return dataframe"
   ]
  },
  {
   "cell_type": "code",
   "execution_count": 13,
   "id": "aaa77500",
   "metadata": {},
   "outputs": [],
   "source": [
    "df_clear = braki(df_out)"
   ]
  },
  {
   "cell_type": "code",
   "execution_count": 14,
   "id": "d66b4e83",
   "metadata": {},
   "outputs": [
    {
     "name": "stdout",
     "output_type": "stream",
     "text": [
      "<class 'pandas.core.frame.DataFrame'>\n",
      "Int64Index: 118540 entries, 0 to 119389\n",
      "Data columns (total 31 columns):\n",
      " #   Column                          Non-Null Count   Dtype  \n",
      "---  ------                          --------------   -----  \n",
      " 0   hotel                           118540 non-null  object \n",
      " 1   is_canceled                     118540 non-null  int64  \n",
      " 2   lead_time                       118540 non-null  int64  \n",
      " 3   arrival_date_year               118540 non-null  int64  \n",
      " 4   arrival_date_month              118540 non-null  object \n",
      " 5   arrival_date_week_number        118540 non-null  int64  \n",
      " 6   arrival_date_day_of_month       118540 non-null  int64  \n",
      " 7   stays_in_weekend_nights         118540 non-null  float64\n",
      " 8   stays_in_week_nights            118540 non-null  float64\n",
      " 9   adults                          118540 non-null  float64\n",
      " 10  children                        118540 non-null  float64\n",
      " 11  babies                          118540 non-null  float64\n",
      " 12  meal                            118540 non-null  object \n",
      " 13  country                         118540 non-null  object \n",
      " 14  market_segment                  118540 non-null  object \n",
      " 15  distribution_channel            118540 non-null  object \n",
      " 16  is_repeated_guest               118540 non-null  int64  \n",
      " 17  previous_cancellations          118540 non-null  int64  \n",
      " 18  previous_bookings_not_canceled  118540 non-null  int64  \n",
      " 19  reserved_room_type              118540 non-null  object \n",
      " 20  assigned_room_type              118540 non-null  object \n",
      " 21  booking_changes                 118540 non-null  int64  \n",
      " 22  deposit_type                    118540 non-null  object \n",
      " 23  agent                           118540 non-null  object \n",
      " 24  days_in_waiting_list            118540 non-null  int64  \n",
      " 25  customer_type                   118540 non-null  object \n",
      " 26  adr                             118540 non-null  float64\n",
      " 27  required_car_parking_spaces     118540 non-null  float64\n",
      " 28  total_of_special_requests       118540 non-null  int64  \n",
      " 29  reservation_status              118540 non-null  object \n",
      " 30  reservation_status_date         118540 non-null  object \n",
      "dtypes: float64(7), int64(11), object(13)\n",
      "memory usage: 28.9+ MB\n"
     ]
    }
   ],
   "source": [
    "df_clear.info()"
   ]
  },
  {
   "cell_type": "code",
   "execution_count": 15,
   "id": "d8c36eaa",
   "metadata": {},
   "outputs": [],
   "source": [
    "df_clear = df_clear.drop(['reservation_status_date'], axis = 1)"
   ]
  },
  {
   "cell_type": "code",
   "execution_count": 16,
   "id": "25817838",
   "metadata": {},
   "outputs": [],
   "source": [
    "y = df_clear.is_canceled"
   ]
  },
  {
   "cell_type": "code",
   "execution_count": 17,
   "id": "18c71063",
   "metadata": {},
   "outputs": [],
   "source": [
    "X = df_clear.drop(['is_canceled'], axis = 1)"
   ]
  },
  {
   "cell_type": "code",
   "execution_count": 18,
   "id": "1cf698ac",
   "metadata": {},
   "outputs": [
    {
     "name": "stderr",
     "output_type": "stream",
     "text": [
      "C:\\Users\\User\\anaconda3\\envs\\WM\\lib\\site-packages\\pandas\\core\\algorithms.py:798: FutureWarning:\n",
      "\n",
      "In a future version, the Index constructor will not infer numeric dtypes when passed object-dtype sequences (matching Series behavior)\n",
      "\n"
     ]
    }
   ],
   "source": [
    "x_all = pd.get_dummies(X)"
   ]
  },
  {
   "cell_type": "code",
   "execution_count": 19,
   "id": "a7643daa",
   "metadata": {},
   "outputs": [],
   "source": [
    "x_traina, x_other, y_traina, y_other = train_test_split(x_all,y,\n",
    "                                              train_size=0.7,\n",
    "                                              random_state=1234)\n",
    "x_testa, x_ttesta, y_testa, y_ttesta = train_test_split(x_other,y_other,\n",
    "                                              train_size=0.6,\n",
    "                                              random_state=1234)"
   ]
  },
  {
   "cell_type": "code",
   "execution_count": 20,
   "id": "e2cc8fd3",
   "metadata": {},
   "outputs": [],
   "source": [
    "# Standaryzacja\n",
    "scaler = preprocessing.StandardScaler()\n",
    "scaler.fit(x_traina)\n",
    "x_trainas = scaler.transform(x_traina)\n",
    "x_testas = scaler.transform(x_testa)"
   ]
  },
  {
   "cell_type": "code",
   "execution_count": 21,
   "id": "899629a5",
   "metadata": {},
   "outputs": [],
   "source": [
    "pca_all = PCA()"
   ]
  },
  {
   "cell_type": "code",
   "execution_count": 22,
   "id": "3b6475f1",
   "metadata": {},
   "outputs": [
    {
     "data": {
      "text/plain": [
       "PCA()"
      ]
     },
     "execution_count": 22,
     "metadata": {},
     "output_type": "execute_result"
    }
   ],
   "source": [
    "pca_all.fit(x_trainas)"
   ]
  },
  {
   "cell_type": "code",
   "execution_count": 23,
   "id": "6061a7b9",
   "metadata": {},
   "outputs": [],
   "source": [
    "exp_var_pca = pca_all.explained_variance_ratio_\n",
    "cum_sum = np.cumsum(exp_var_pca)"
   ]
  },
  {
   "cell_type": "code",
   "execution_count": 24,
   "id": "79e32f23",
   "metadata": {},
   "outputs": [
    {
     "data": {
      "image/png": "[encoded data removed]",
      "text/plain": [
       "<Figure size 432x288 with 1 Axes>"
      ]
     },
     "metadata": {
      "needs_background": "light"
     },
     "output_type": "display_data"
    }
   ],
   "source": [
    "# https://vitalflux.com/pca-explained-variance-concept-python-example/\n",
    "plt.bar(range(0,len(exp_var_pca)), exp_var_pca, alpha=0.5, align='center', label='Individual explained variance')\n",
    "plt.step(range(0,len(cum_sum)), cum_sum, where='mid',label='Cumulative explained variance')\n",
    "plt.ylabel('Explained variance ratio')\n",
    "plt.xlabel('Principal component index')\n",
    "plt.legend(loc='best')\n",
    "plt.tight_layout()\n",
    "plt.show()"
   ]
  },
  {
   "cell_type": "code",
   "execution_count": 25,
   "id": "e0447ace",
   "metadata": {},
   "outputs": [],
   "source": [
    "pca3 = PCA(n_components=25)\n",
    "pca3.fit(x_trainas)\n",
    "x_train3 = pca3.transform(x_trainas)\n",
    "pca_variance3 = pca3.explained_variance_"
   ]
  },
  {
   "cell_type": "code",
   "execution_count": 26,
   "id": "6a2e461d",
   "metadata": {},
   "outputs": [],
   "source": [
    "var3 = pca3.explained_variance_ratio_\n",
    "cum_sum3 = np.cumsum(var3)"
   ]
  },
  {
   "cell_type": "code",
   "execution_count": 27,
   "id": "208136de",
   "metadata": {},
   "outputs": [
    {
     "data": {
      "image/png": "[encoded data removed]",
      "text/plain": [
       "<Figure size 432x288 with 1 Axes>"
      ]
     },
     "metadata": {
      "needs_background": "light"
     },
     "output_type": "display_data"
    }
   ],
   "source": [
    "plt.bar(range(0,len(var3)), var3, alpha=0.5, align='center', label='Individual explained variance')\n",
    "plt.step(range(0,len(cum_sum3)), cum_sum3, where='mid',label='Cumulative explained variance')\n",
    "plt.ylabel('Explained variance ratio')\n",
    "plt.xlabel('Principal component index')\n",
    "plt.legend(loc='best')\n",
    "plt.tight_layout()\n",
    "plt.show()"
   ]
  },
  {
   "cell_type": "code",
   "execution_count": 28,
   "id": "6b1f44ce",
   "metadata": {},
   "outputs": [],
   "source": [
    "pca4 = PCA(n_components=10)\n",
    "pca4.fit(x_trainas)\n",
    "x_train4 = pca4.transform(x_trainas)"
   ]
  },
  {
   "cell_type": "code",
   "execution_count": 29,
   "id": "bd5eaa30",
   "metadata": {},
   "outputs": [],
   "source": [
    "var4 = pca4.explained_variance_ratio_\n",
    "cum_sum4 = np.cumsum(var4)"
   ]
  },
  {
   "cell_type": "code",
   "execution_count": 30,
   "id": "2b2681b9",
   "metadata": {
    "scrolled": true
   },
   "outputs": [
    {
     "data": {
      "image/png": "[encoded data removed]",
      "text/plain": [
       "<Figure size 432x288 with 1 Axes>"
      ]
     },
     "metadata": {
      "needs_background": "light"
     },
     "output_type": "display_data"
    }
   ],
   "source": [
    "plt.bar(range(0,len(var4)), var4, alpha=0.5, align='center', label='Individual explained variance')\n",
    "plt.step(range(0,len(cum_sum4)), cum_sum4, where='mid',label='Cumulative explained variance')\n",
    "plt.ylabel('Explained variance ratio')\n",
    "plt.xlabel('Principal component index')\n",
    "plt.legend(loc='best')\n",
    "plt.tight_layout()\n",
    "plt.show()"
   ]
  },
  {
   "cell_type": "markdown",
   "id": "da9daec1",
   "metadata": {},
   "source": [
    "Chyba pozostaniemy przy opcji 10 zmiennych."
   ]
  },
  {
   "cell_type": "code",
   "execution_count": 31,
   "id": "257f0d57",
   "metadata": {},
   "outputs": [],
   "source": [
    "x_test4 = pca4.transform(x_testas)\n",
    "x_test3 = pca3.transform(x_testas)"
   ]
  },
  {
   "cell_type": "code",
   "execution_count": 32,
   "id": "a930d5c6",
   "metadata": {},
   "outputs": [],
   "source": [
    "pca2 = PCA(n_components=50)\n",
    "pca2.fit(x_trainas)\n",
    "x_train2 = pca2.transform(x_trainas)\n",
    "x_test2 = pca2.transform(x_testas)"
   ]
  },
  {
   "cell_type": "markdown",
   "id": "9dd7c8b6",
   "metadata": {},
   "source": [
    "### SVM"
   ]
  },
  {
   "cell_type": "code",
   "execution_count": 33,
   "id": "45ca03c2",
   "metadata": {},
   "outputs": [
    {
     "data": {
      "text/plain": [
       "SVC(C=1, kernel='linear')"
      ]
     },
     "execution_count": 33,
     "metadata": {},
     "output_type": "execute_result"
    }
   ],
   "source": [
    "clf = svm.SVC(kernel='linear', C=1)\n",
    "clf.fit(x_train4, y_traina)"
   ]
  },
  {
   "cell_type": "code",
   "execution_count": 34,
   "id": "9eea5748",
   "metadata": {},
   "outputs": [],
   "source": [
    "clf3 = svm.SVC(kernel='linear', C=1)"
   ]
  },
  {
   "cell_type": "code",
   "execution_count": 35,
   "id": "4af50f2b",
   "metadata": {},
   "outputs": [
    {
     "data": {
      "text/plain": [
       "SVC(C=1, kernel='linear')"
      ]
     },
     "execution_count": 35,
     "metadata": {},
     "output_type": "execute_result"
    }
   ],
   "source": [
    "clf3.fit(x_train3, y_traina)"
   ]
  },
  {
   "cell_type": "code",
   "execution_count": 36,
   "id": "8c4a381b",
   "metadata": {},
   "outputs": [
    {
     "name": "stdout",
     "output_type": "stream",
     "text": [
      "0.9671479187254453\n",
      "0.9697239536954586\n"
     ]
    }
   ],
   "source": [
    "print(clf.score(x_train4, y_traina))\n",
    "print(clf.score(x_test4 , y_testa))"
   ]
  },
  {
   "cell_type": "code",
   "execution_count": 37,
   "id": "b6375672",
   "metadata": {},
   "outputs": [],
   "source": [
    "def metrics_score(model, x, y, name):\n",
    "    y_pred = model.predict(x)\n",
    "    score = {\"Name\" : name,\n",
    "        \"R2_score\": metrics.r2_score(y, y_pred),\n",
    "     \"Accuracy\": metrics.accuracy_score(y, y_pred),\n",
    "     \"Precision\": metrics.precision_score(y, y_pred),\n",
    "     \"Recall\": metrics.recall_score(y, y_pred)}\n",
    "    return score"
   ]
  },
  {
   "cell_type": "code",
   "execution_count": 38,
   "id": "2c911db7",
   "metadata": {},
   "outputs": [],
   "source": [
    "metric = pd.DataFrame(columns = ['Name','R2_score', 'Accuracy', 'Precision', 'Recall'])"
   ]
  },
  {
   "cell_type": "code",
   "execution_count": 39,
   "id": "362c0339",
   "metadata": {},
   "outputs": [
    {
     "name": "stderr",
     "output_type": "stream",
     "text": [
      "C:\\Users\\User\\AppData\\Local\\Temp\\ipykernel_17492\\4025968588.py:1: FutureWarning:\n",
      "\n",
      "The frame.append method is deprecated and will be removed from pandas in a future version. Use pandas.concat instead.\n",
      "\n"
     ]
    }
   ],
   "source": [
    "metric = metric.append(metrics_score(clf, x_train4, y_traina, 'clf_10'), ignore_index=True)"
   ]
  },
  {
   "cell_type": "code",
   "execution_count": 40,
   "id": "6670db4f",
   "metadata": {},
   "outputs": [
    {
     "name": "stderr",
     "output_type": "stream",
     "text": [
      "C:\\Users\\User\\AppData\\Local\\Temp\\ipykernel_17492\\3348685123.py:1: FutureWarning:\n",
      "\n",
      "The frame.append method is deprecated and will be removed from pandas in a future version. Use pandas.concat instead.\n",
      "\n"
     ]
    }
   ],
   "source": [
    "metric = metric.append(metrics_score(clf3, x_train3, y_traina, 'clf_25'), ignore_index=True)"
   ]
  },
  {
   "cell_type": "code",
   "execution_count": 41,
   "id": "4ed29a7f",
   "metadata": {},
   "outputs": [
    {
     "data": {
      "text/html": [
       "<div>\n",
       "<style scoped>\n",
       "    .dataframe tbody tr th:only-of-type {\n",
       "        vertical-align: middle;\n",
       "    }\n",
       "\n",
       "    .dataframe tbody tr th {\n",
       "        vertical-align: top;\n",
       "    }\n",
       "\n",
       "    .dataframe thead th {\n",
       "        text-align: right;\n",
       "    }\n",
       "</style>\n",
       "<table border=\"1\" class=\"dataframe\">\n",
       "  <thead>\n",
       "    <tr style=\"text-align: right;\">\n",
       "      <th></th>\n",
       "      <th>Name</th>\n",
       "      <th>R2_score</th>\n",
       "      <th>Accuracy</th>\n",
       "      <th>Precision</th>\n",
       "      <th>Recall</th>\n",
       "    </tr>\n",
       "  </thead>\n",
       "  <tbody>\n",
       "    <tr>\n",
       "      <th>0</th>\n",
       "      <td>clf_10</td>\n",
       "      <td>0.859242</td>\n",
       "      <td>0.967148</td>\n",
       "      <td>0.969649</td>\n",
       "      <td>0.940934</td>\n",
       "    </tr>\n",
       "    <tr>\n",
       "      <th>1</th>\n",
       "      <td>clf_25</td>\n",
       "      <td>0.980792</td>\n",
       "      <td>0.995517</td>\n",
       "      <td>0.995118</td>\n",
       "      <td>0.992791</td>\n",
       "    </tr>\n",
       "  </tbody>\n",
       "</table>\n",
       "</div>"
      ],
      "text/plain": [
       "     Name  R2_score  Accuracy Precision    Recall\n",
       "0  clf_10  0.859242  0.967148  0.969649  0.940934\n",
       "1  clf_25  0.980792  0.995517  0.995118  0.992791"
      ]
     },
     "execution_count": 41,
     "metadata": {},
     "output_type": "execute_result"
    }
   ],
   "source": [
    "metric"
   ]
  },
  {
   "cell_type": "code",
   "execution_count": 42,
   "id": "3827ee25",
   "metadata": {},
   "outputs": [
    {
     "data": {
      "text/plain": [
       "SVC(C=1, kernel='linear')"
      ]
     },
     "execution_count": 42,
     "metadata": {},
     "output_type": "execute_result"
    }
   ],
   "source": [
    "clf2 = svm.SVC(kernel='linear', C=1)\n",
    "clf2.fit(x_train2, y_traina)"
   ]
  },
  {
   "cell_type": "code",
   "execution_count": 43,
   "id": "b2a0ca36",
   "metadata": {},
   "outputs": [
    {
     "name": "stderr",
     "output_type": "stream",
     "text": [
      "C:\\Users\\User\\AppData\\Local\\Temp\\ipykernel_17492\\788949275.py:1: FutureWarning:\n",
      "\n",
      "The frame.append method is deprecated and will be removed from pandas in a future version. Use pandas.concat instead.\n",
      "\n"
     ]
    }
   ],
   "source": [
    "metric = metric.append(metrics_score(clf2, x_train2, y_traina, 'clf_50'), ignore_index=True)"
   ]
  },
  {
   "cell_type": "code",
   "execution_count": 44,
   "id": "7f76b6a7",
   "metadata": {},
   "outputs": [
    {
     "data": {
      "text/html": [
       "<div>\n",
       "<style scoped>\n",
       "    .dataframe tbody tr th:only-of-type {\n",
       "        vertical-align: middle;\n",
       "    }\n",
       "\n",
       "    .dataframe tbody tr th {\n",
       "        vertical-align: top;\n",
       "    }\n",
       "\n",
       "    .dataframe thead th {\n",
       "        text-align: right;\n",
       "    }\n",
       "</style>\n",
       "<table border=\"1\" class=\"dataframe\">\n",
       "  <thead>\n",
       "    <tr style=\"text-align: right;\">\n",
       "      <th></th>\n",
       "      <th>Name</th>\n",
       "      <th>R2_score</th>\n",
       "      <th>Accuracy</th>\n",
       "      <th>Precision</th>\n",
       "      <th>Recall</th>\n",
       "    </tr>\n",
       "  </thead>\n",
       "  <tbody>\n",
       "    <tr>\n",
       "      <th>0</th>\n",
       "      <td>clf_10</td>\n",
       "      <td>0.859242</td>\n",
       "      <td>0.967148</td>\n",
       "      <td>0.969649</td>\n",
       "      <td>0.940934</td>\n",
       "    </tr>\n",
       "    <tr>\n",
       "      <th>1</th>\n",
       "      <td>clf_25</td>\n",
       "      <td>0.980792</td>\n",
       "      <td>0.995517</td>\n",
       "      <td>0.995118</td>\n",
       "      <td>0.992791</td>\n",
       "    </tr>\n",
       "    <tr>\n",
       "      <th>2</th>\n",
       "      <td>clf_50</td>\n",
       "      <td>0.991429</td>\n",
       "      <td>0.997999</td>\n",
       "      <td>0.997563</td>\n",
       "      <td>0.997045</td>\n",
       "    </tr>\n",
       "  </tbody>\n",
       "</table>\n",
       "</div>"
      ],
      "text/plain": [
       "     Name  R2_score  Accuracy Precision    Recall\n",
       "0  clf_10  0.859242  0.967148  0.969649  0.940934\n",
       "1  clf_25  0.980792  0.995517  0.995118  0.992791\n",
       "2  clf_50  0.991429  0.997999  0.997563  0.997045"
      ]
     },
     "execution_count": 44,
     "metadata": {},
     "output_type": "execute_result"
    }
   ],
   "source": [
    "metric"
   ]
  },
  {
   "cell_type": "code",
   "execution_count": 45,
   "id": "050baedc",
   "metadata": {},
   "outputs": [
    {
     "name": "stderr",
     "output_type": "stream",
     "text": [
      "C:\\Users\\User\\AppData\\Local\\Temp\\ipykernel_17492\\2112394314.py:1: FutureWarning:\n",
      "\n",
      "The frame.append method is deprecated and will be removed from pandas in a future version. Use pandas.concat instead.\n",
      "\n",
      "C:\\Users\\User\\AppData\\Local\\Temp\\ipykernel_17492\\2112394314.py:2: FutureWarning:\n",
      "\n",
      "The frame.append method is deprecated and will be removed from pandas in a future version. Use pandas.concat instead.\n",
      "\n",
      "C:\\Users\\User\\AppData\\Local\\Temp\\ipykernel_17492\\2112394314.py:3: FutureWarning:\n",
      "\n",
      "The frame.append method is deprecated and will be removed from pandas in a future version. Use pandas.concat instead.\n",
      "\n"
     ]
    }
   ],
   "source": [
    "metric = metric.append(metrics_score(clf, x_test4, y_testa, 'clf_10_val'), ignore_index=True)\n",
    "metric = metric.append(metrics_score(clf3, x_test3, y_testa, 'clf_25_val'), ignore_index=True)\n",
    "metric = metric.append(metrics_score(clf2, x_test2, y_testa, 'clf_50_val'), ignore_index=True)"
   ]
  },
  {
   "cell_type": "code",
   "execution_count": 46,
   "id": "bcf33016",
   "metadata": {},
   "outputs": [
    {
     "data": {
      "text/html": [
       "<div>\n",
       "<style scoped>\n",
       "    .dataframe tbody tr th:only-of-type {\n",
       "        vertical-align: middle;\n",
       "    }\n",
       "\n",
       "    .dataframe tbody tr th {\n",
       "        vertical-align: top;\n",
       "    }\n",
       "\n",
       "    .dataframe thead th {\n",
       "        text-align: right;\n",
       "    }\n",
       "</style>\n",
       "<table border=\"1\" class=\"dataframe\">\n",
       "  <thead>\n",
       "    <tr style=\"text-align: right;\">\n",
       "      <th></th>\n",
       "      <th>Name</th>\n",
       "      <th>R2_score</th>\n",
       "      <th>Accuracy</th>\n",
       "      <th>Precision</th>\n",
       "      <th>Recall</th>\n",
       "    </tr>\n",
       "  </thead>\n",
       "  <tbody>\n",
       "    <tr>\n",
       "      <th>0</th>\n",
       "      <td>clf_10</td>\n",
       "      <td>0.859242</td>\n",
       "      <td>0.967148</td>\n",
       "      <td>0.969649</td>\n",
       "      <td>0.940934</td>\n",
       "    </tr>\n",
       "    <tr>\n",
       "      <th>1</th>\n",
       "      <td>clf_25</td>\n",
       "      <td>0.980792</td>\n",
       "      <td>0.995517</td>\n",
       "      <td>0.995118</td>\n",
       "      <td>0.992791</td>\n",
       "    </tr>\n",
       "    <tr>\n",
       "      <th>2</th>\n",
       "      <td>clf_50</td>\n",
       "      <td>0.991429</td>\n",
       "      <td>0.997999</td>\n",
       "      <td>0.997563</td>\n",
       "      <td>0.997045</td>\n",
       "    </tr>\n",
       "    <tr>\n",
       "      <th>3</th>\n",
       "      <td>clf_10_val</td>\n",
       "      <td>0.869871</td>\n",
       "      <td>0.969724</td>\n",
       "      <td>0.969291</td>\n",
       "      <td>0.947831</td>\n",
       "    </tr>\n",
       "    <tr>\n",
       "      <th>4</th>\n",
       "      <td>clf_25_val</td>\n",
       "      <td>0.979856</td>\n",
       "      <td>0.995313</td>\n",
       "      <td>0.995276</td>\n",
       "      <td>0.991984</td>\n",
       "    </tr>\n",
       "    <tr>\n",
       "      <th>5</th>\n",
       "      <td>clf_50_val</td>\n",
       "      <td>0.991137</td>\n",
       "      <td>0.997938</td>\n",
       "      <td>0.997201</td>\n",
       "      <td>0.997201</td>\n",
       "    </tr>\n",
       "  </tbody>\n",
       "</table>\n",
       "</div>"
      ],
      "text/plain": [
       "         Name  R2_score  Accuracy Precision    Recall\n",
       "0      clf_10  0.859242  0.967148  0.969649  0.940934\n",
       "1      clf_25  0.980792  0.995517  0.995118  0.992791\n",
       "2      clf_50  0.991429  0.997999  0.997563  0.997045\n",
       "3  clf_10_val  0.869871  0.969724  0.969291  0.947831\n",
       "4  clf_25_val  0.979856  0.995313  0.995276  0.991984\n",
       "5  clf_50_val  0.991137  0.997938  0.997201  0.997201"
      ]
     },
     "execution_count": 46,
     "metadata": {},
     "output_type": "execute_result"
    }
   ],
   "source": [
    "metric"
   ]
  },
  {
   "cell_type": "markdown",
   "id": "37d86f55",
   "metadata": {},
   "source": [
    "### Drzewa decyzyjne"
   ]
  },
  {
   "cell_type": "code",
   "execution_count": 47,
   "id": "0c4e5de0",
   "metadata": {},
   "outputs": [],
   "source": [
    "tree = DecisionTreeClassifier()"
   ]
  },
  {
   "cell_type": "code",
   "execution_count": 48,
   "id": "6d0425d6",
   "metadata": {},
   "outputs": [
    {
     "data": {
      "text/plain": [
       "DecisionTreeClassifier()"
      ]
     },
     "execution_count": 48,
     "metadata": {},
     "output_type": "execute_result"
    }
   ],
   "source": [
    "tree.fit(x_train4, y_traina)"
   ]
  },
  {
   "cell_type": "code",
   "execution_count": 49,
   "id": "fa9f1d08",
   "metadata": {},
   "outputs": [
    {
     "name": "stdout",
     "output_type": "stream",
     "text": [
      "0.9852837793504241\n"
     ]
    }
   ],
   "source": [
    "predictions = tree.predict(x_test4)\n",
    "print(accuracy_score(y_testa, predictions))"
   ]
  },
  {
   "cell_type": "code",
   "execution_count": 50,
   "id": "6cc5c712",
   "metadata": {},
   "outputs": [],
   "source": [
    "# Wcześniejsze - bez pca = 0.77999226686...\n",
    "# tree.score(pca_val, y_val)"
   ]
  },
  {
   "cell_type": "markdown",
   "id": "e9a49a18",
   "metadata": {},
   "source": [
    "Sprawdzenie odpowiednich parametrów"
   ]
  },
  {
   "cell_type": "code",
   "execution_count": 51,
   "id": "d7d2e1c9",
   "metadata": {},
   "outputs": [],
   "source": [
    "params = {\n",
    "    'criterion':  ['gini', 'entropy'],\n",
    "    'max_depth':  [10, 15, 20, None],\n",
    "    'max_features': [None, 0.8]\n",
    "}"
   ]
  },
  {
   "cell_type": "code",
   "execution_count": 52,
   "id": "42911d29",
   "metadata": {},
   "outputs": [],
   "source": [
    "tree_grid = GridSearchCV(\n",
    "    estimator=DecisionTreeClassifier(),\n",
    "    param_grid=params,\n",
    "    cv=5,\n",
    "    verbose=1,\n",
    ")"
   ]
  },
  {
   "cell_type": "code",
   "execution_count": 53,
   "id": "29ee8d6c",
   "metadata": {
    "scrolled": false
   },
   "outputs": [
    {
     "name": "stdout",
     "output_type": "stream",
     "text": [
      "Fitting 5 folds for each of 16 candidates, totalling 80 fits\n"
     ]
    },
    {
     "data": {
      "text/plain": [
       "GridSearchCV(cv=5, estimator=DecisionTreeClassifier(),\n",
       "             param_grid={'criterion': ['gini', 'entropy'],\n",
       "                         'max_depth': [10, 15, 20, None],\n",
       "                         'max_features': [None, 0.8]},\n",
       "             verbose=1)"
      ]
     },
     "execution_count": 53,
     "metadata": {},
     "output_type": "execute_result"
    }
   ],
   "source": [
    "tree_grid.fit(x_train4, y_traina)"
   ]
  },
  {
   "cell_type": "code",
   "execution_count": 54,
   "id": "97ebdec1",
   "metadata": {},
   "outputs": [
    {
     "data": {
      "text/plain": [
       "{'ccp_alpha': 0.0,\n",
       " 'class_weight': None,\n",
       " 'criterion': 'entropy',\n",
       " 'max_depth': None,\n",
       " 'max_features': 0.8,\n",
       " 'max_leaf_nodes': None,\n",
       " 'min_impurity_decrease': 0.0,\n",
       " 'min_samples_leaf': 1,\n",
       " 'min_samples_split': 2,\n",
       " 'min_weight_fraction_leaf': 0.0,\n",
       " 'random_state': None,\n",
       " 'splitter': 'best'}"
      ]
     },
     "execution_count": 54,
     "metadata": {},
     "output_type": "execute_result"
    }
   ],
   "source": [
    "tree_grid.best_estimator_.get_params()"
   ]
  },
  {
   "cell_type": "code",
   "execution_count": 55,
   "id": "1634e07e",
   "metadata": {},
   "outputs": [
    {
     "name": "stderr",
     "output_type": "stream",
     "text": [
      "C:\\Users\\User\\AppData\\Local\\Temp\\ipykernel_17492\\3423311907.py:1: FutureWarning:\n",
      "\n",
      "The frame.append method is deprecated and will be removed from pandas in a future version. Use pandas.concat instead.\n",
      "\n"
     ]
    }
   ],
   "source": [
    "metric = metric.append(metrics_score(tree_grid, x_train4, y_traina, 'tree_10'), ignore_index=True)"
   ]
  },
  {
   "cell_type": "code",
   "execution_count": 56,
   "id": "76a93911",
   "metadata": {},
   "outputs": [
    {
     "name": "stderr",
     "output_type": "stream",
     "text": [
      "C:\\Users\\User\\AppData\\Local\\Temp\\ipykernel_17492\\1249214309.py:14: FutureWarning:\n",
      "\n",
      "The frame.append method is deprecated and will be removed from pandas in a future version. Use pandas.concat instead.\n",
      "\n"
     ]
    }
   ],
   "source": [
    "tree3 = DecisionTreeClassifier(ccp_alpha= 0.0,\n",
    " class_weight= None,\n",
    "criterion= 'entropy',\n",
    " max_depth= 15,\n",
    " max_features= None,\n",
    " max_leaf_nodes= None,\n",
    " min_impurity_decrease= 0.0,\n",
    " min_samples_leaf= 1,\n",
    " min_samples_split= 2,\n",
    " min_weight_fraction_leaf= 0.0,\n",
    " random_state= None,\n",
    " splitter= 'best')\n",
    "tree3.fit(x_train3, y_traina)\n",
    "metric = metric.append(metrics_score(tree3, x_train3, y_traina, 'tree_25'), ignore_index=True)"
   ]
  },
  {
   "cell_type": "code",
   "execution_count": 57,
   "id": "2660bee9",
   "metadata": {},
   "outputs": [
    {
     "data": {
      "text/html": [
       "<div>\n",
       "<style scoped>\n",
       "    .dataframe tbody tr th:only-of-type {\n",
       "        vertical-align: middle;\n",
       "    }\n",
       "\n",
       "    .dataframe tbody tr th {\n",
       "        vertical-align: top;\n",
       "    }\n",
       "\n",
       "    .dataframe thead th {\n",
       "        text-align: right;\n",
       "    }\n",
       "</style>\n",
       "<table border=\"1\" class=\"dataframe\">\n",
       "  <thead>\n",
       "    <tr style=\"text-align: right;\">\n",
       "      <th></th>\n",
       "      <th>Name</th>\n",
       "      <th>R2_score</th>\n",
       "      <th>Accuracy</th>\n",
       "      <th>Precision</th>\n",
       "      <th>Recall</th>\n",
       "    </tr>\n",
       "  </thead>\n",
       "  <tbody>\n",
       "    <tr>\n",
       "      <th>0</th>\n",
       "      <td>clf_10</td>\n",
       "      <td>0.859242</td>\n",
       "      <td>0.967148</td>\n",
       "      <td>0.969649</td>\n",
       "      <td>0.940934</td>\n",
       "    </tr>\n",
       "    <tr>\n",
       "      <th>1</th>\n",
       "      <td>clf_25</td>\n",
       "      <td>0.980792</td>\n",
       "      <td>0.995517</td>\n",
       "      <td>0.995118</td>\n",
       "      <td>0.992791</td>\n",
       "    </tr>\n",
       "    <tr>\n",
       "      <th>2</th>\n",
       "      <td>clf_50</td>\n",
       "      <td>0.991429</td>\n",
       "      <td>0.997999</td>\n",
       "      <td>0.997563</td>\n",
       "      <td>0.997045</td>\n",
       "    </tr>\n",
       "    <tr>\n",
       "      <th>3</th>\n",
       "      <td>clf_10_val</td>\n",
       "      <td>0.869871</td>\n",
       "      <td>0.969724</td>\n",
       "      <td>0.969291</td>\n",
       "      <td>0.947831</td>\n",
       "    </tr>\n",
       "    <tr>\n",
       "      <th>4</th>\n",
       "      <td>clf_25_val</td>\n",
       "      <td>0.979856</td>\n",
       "      <td>0.995313</td>\n",
       "      <td>0.995276</td>\n",
       "      <td>0.991984</td>\n",
       "    </tr>\n",
       "    <tr>\n",
       "      <th>5</th>\n",
       "      <td>clf_50_val</td>\n",
       "      <td>0.991137</td>\n",
       "      <td>0.997938</td>\n",
       "      <td>0.997201</td>\n",
       "      <td>0.997201</td>\n",
       "    </tr>\n",
       "    <tr>\n",
       "      <th>6</th>\n",
       "      <td>tree_10</td>\n",
       "      <td>1.0</td>\n",
       "      <td>1.0</td>\n",
       "      <td>1.0</td>\n",
       "      <td>1.0</td>\n",
       "    </tr>\n",
       "    <tr>\n",
       "      <th>7</th>\n",
       "      <td>tree_25</td>\n",
       "      <td>0.999793</td>\n",
       "      <td>0.999952</td>\n",
       "      <td>0.999935</td>\n",
       "      <td>0.999935</td>\n",
       "    </tr>\n",
       "  </tbody>\n",
       "</table>\n",
       "</div>"
      ],
      "text/plain": [
       "         Name  R2_score  Accuracy Precision    Recall\n",
       "0      clf_10  0.859242  0.967148  0.969649  0.940934\n",
       "1      clf_25  0.980792  0.995517  0.995118  0.992791\n",
       "2      clf_50  0.991429  0.997999  0.997563  0.997045\n",
       "3  clf_10_val  0.869871  0.969724  0.969291  0.947831\n",
       "4  clf_25_val  0.979856  0.995313  0.995276  0.991984\n",
       "5  clf_50_val  0.991137  0.997938  0.997201  0.997201\n",
       "6     tree_10       1.0       1.0       1.0       1.0\n",
       "7     tree_25  0.999793  0.999952  0.999935  0.999935"
      ]
     },
     "execution_count": 57,
     "metadata": {},
     "output_type": "execute_result"
    }
   ],
   "source": [
    "metric"
   ]
  },
  {
   "cell_type": "code",
   "execution_count": 58,
   "id": "305d05c9",
   "metadata": {},
   "outputs": [
    {
     "name": "stderr",
     "output_type": "stream",
     "text": [
      "C:\\Users\\User\\AppData\\Local\\Temp\\ipykernel_17492\\385701488.py:14: FutureWarning:\n",
      "\n",
      "The frame.append method is deprecated and will be removed from pandas in a future version. Use pandas.concat instead.\n",
      "\n"
     ]
    }
   ],
   "source": [
    "tree2 = DecisionTreeClassifier(ccp_alpha= 0.0,\n",
    " class_weight= None,\n",
    "criterion= 'entropy',\n",
    " max_depth= 15,\n",
    " max_features= None,\n",
    " max_leaf_nodes= None,\n",
    " min_impurity_decrease= 0.0,\n",
    " min_samples_leaf= 1,\n",
    " min_samples_split= 2,\n",
    " min_weight_fraction_leaf= 0.0,\n",
    " random_state= None,\n",
    " splitter= 'best')\n",
    "tree2.fit(x_train2, y_traina)\n",
    "metric = metric.append(metrics_score(tree2, x_train2, y_traina, 'tree_50'), ignore_index=True)"
   ]
  },
  {
   "cell_type": "code",
   "execution_count": 59,
   "id": "9cfe12cd",
   "metadata": {},
   "outputs": [
    {
     "data": {
      "text/html": [
       "<div>\n",
       "<style scoped>\n",
       "    .dataframe tbody tr th:only-of-type {\n",
       "        vertical-align: middle;\n",
       "    }\n",
       "\n",
       "    .dataframe tbody tr th {\n",
       "        vertical-align: top;\n",
       "    }\n",
       "\n",
       "    .dataframe thead th {\n",
       "        text-align: right;\n",
       "    }\n",
       "</style>\n",
       "<table border=\"1\" class=\"dataframe\">\n",
       "  <thead>\n",
       "    <tr style=\"text-align: right;\">\n",
       "      <th></th>\n",
       "      <th>Name</th>\n",
       "      <th>R2_score</th>\n",
       "      <th>Accuracy</th>\n",
       "      <th>Precision</th>\n",
       "      <th>Recall</th>\n",
       "    </tr>\n",
       "  </thead>\n",
       "  <tbody>\n",
       "    <tr>\n",
       "      <th>0</th>\n",
       "      <td>clf_10</td>\n",
       "      <td>0.859242</td>\n",
       "      <td>0.967148</td>\n",
       "      <td>0.969649</td>\n",
       "      <td>0.940934</td>\n",
       "    </tr>\n",
       "    <tr>\n",
       "      <th>1</th>\n",
       "      <td>clf_25</td>\n",
       "      <td>0.980792</td>\n",
       "      <td>0.995517</td>\n",
       "      <td>0.995118</td>\n",
       "      <td>0.992791</td>\n",
       "    </tr>\n",
       "    <tr>\n",
       "      <th>2</th>\n",
       "      <td>clf_50</td>\n",
       "      <td>0.991429</td>\n",
       "      <td>0.997999</td>\n",
       "      <td>0.997563</td>\n",
       "      <td>0.997045</td>\n",
       "    </tr>\n",
       "    <tr>\n",
       "      <th>3</th>\n",
       "      <td>clf_10_val</td>\n",
       "      <td>0.869871</td>\n",
       "      <td>0.969724</td>\n",
       "      <td>0.969291</td>\n",
       "      <td>0.947831</td>\n",
       "    </tr>\n",
       "    <tr>\n",
       "      <th>4</th>\n",
       "      <td>clf_25_val</td>\n",
       "      <td>0.979856</td>\n",
       "      <td>0.995313</td>\n",
       "      <td>0.995276</td>\n",
       "      <td>0.991984</td>\n",
       "    </tr>\n",
       "    <tr>\n",
       "      <th>5</th>\n",
       "      <td>clf_50_val</td>\n",
       "      <td>0.991137</td>\n",
       "      <td>0.997938</td>\n",
       "      <td>0.997201</td>\n",
       "      <td>0.997201</td>\n",
       "    </tr>\n",
       "    <tr>\n",
       "      <th>6</th>\n",
       "      <td>tree_10</td>\n",
       "      <td>1.0</td>\n",
       "      <td>1.0</td>\n",
       "      <td>1.0</td>\n",
       "      <td>1.0</td>\n",
       "    </tr>\n",
       "    <tr>\n",
       "      <th>7</th>\n",
       "      <td>tree_25</td>\n",
       "      <td>0.999793</td>\n",
       "      <td>0.999952</td>\n",
       "      <td>0.999935</td>\n",
       "      <td>0.999935</td>\n",
       "    </tr>\n",
       "    <tr>\n",
       "      <th>8</th>\n",
       "      <td>tree_50</td>\n",
       "      <td>0.999948</td>\n",
       "      <td>0.999988</td>\n",
       "      <td>1.0</td>\n",
       "      <td>0.999968</td>\n",
       "    </tr>\n",
       "  </tbody>\n",
       "</table>\n",
       "</div>"
      ],
      "text/plain": [
       "         Name  R2_score  Accuracy Precision    Recall\n",
       "0      clf_10  0.859242  0.967148  0.969649  0.940934\n",
       "1      clf_25  0.980792  0.995517  0.995118  0.992791\n",
       "2      clf_50  0.991429  0.997999  0.997563  0.997045\n",
       "3  clf_10_val  0.869871  0.969724  0.969291  0.947831\n",
       "4  clf_25_val  0.979856  0.995313  0.995276  0.991984\n",
       "5  clf_50_val  0.991137  0.997938  0.997201  0.997201\n",
       "6     tree_10       1.0       1.0       1.0       1.0\n",
       "7     tree_25  0.999793  0.999952  0.999935  0.999935\n",
       "8     tree_50  0.999948  0.999988       1.0  0.999968"
      ]
     },
     "execution_count": 59,
     "metadata": {},
     "output_type": "execute_result"
    }
   ],
   "source": [
    "metric"
   ]
  },
  {
   "cell_type": "code",
   "execution_count": 60,
   "id": "222c69d2",
   "metadata": {},
   "outputs": [
    {
     "name": "stderr",
     "output_type": "stream",
     "text": [
      "C:\\Users\\User\\AppData\\Local\\Temp\\ipykernel_17492\\1436340332.py:1: FutureWarning:\n",
      "\n",
      "The frame.append method is deprecated and will be removed from pandas in a future version. Use pandas.concat instead.\n",
      "\n",
      "C:\\Users\\User\\AppData\\Local\\Temp\\ipykernel_17492\\1436340332.py:2: FutureWarning:\n",
      "\n",
      "The frame.append method is deprecated and will be removed from pandas in a future version. Use pandas.concat instead.\n",
      "\n",
      "C:\\Users\\User\\AppData\\Local\\Temp\\ipykernel_17492\\1436340332.py:3: FutureWarning:\n",
      "\n",
      "The frame.append method is deprecated and will be removed from pandas in a future version. Use pandas.concat instead.\n",
      "\n"
     ]
    }
   ],
   "source": [
    "metric = metric.append(metrics_score(tree_grid, x_test4, y_testa, 'tree_10_val'), ignore_index=True)\n",
    "metric = metric.append(metrics_score(tree3, x_test3, y_testa, 'tree_25_val'), ignore_index=True)\n",
    "metric = metric.append(metrics_score(tree2, x_test2, y_testa, 'tree_50_val'), ignore_index=True)"
   ]
  },
  {
   "cell_type": "code",
   "execution_count": 61,
   "id": "82df9393",
   "metadata": {},
   "outputs": [
    {
     "data": {
      "text/html": [
       "<div>\n",
       "<style scoped>\n",
       "    .dataframe tbody tr th:only-of-type {\n",
       "        vertical-align: middle;\n",
       "    }\n",
       "\n",
       "    .dataframe tbody tr th {\n",
       "        vertical-align: top;\n",
       "    }\n",
       "\n",
       "    .dataframe thead th {\n",
       "        text-align: right;\n",
       "    }\n",
       "</style>\n",
       "<table border=\"1\" class=\"dataframe\">\n",
       "  <thead>\n",
       "    <tr style=\"text-align: right;\">\n",
       "      <th></th>\n",
       "      <th>Name</th>\n",
       "      <th>R2_score</th>\n",
       "      <th>Accuracy</th>\n",
       "      <th>Precision</th>\n",
       "      <th>Recall</th>\n",
       "    </tr>\n",
       "  </thead>\n",
       "  <tbody>\n",
       "    <tr>\n",
       "      <th>0</th>\n",
       "      <td>clf_10</td>\n",
       "      <td>0.859242</td>\n",
       "      <td>0.967148</td>\n",
       "      <td>0.969649</td>\n",
       "      <td>0.940934</td>\n",
       "    </tr>\n",
       "    <tr>\n",
       "      <th>1</th>\n",
       "      <td>clf_25</td>\n",
       "      <td>0.980792</td>\n",
       "      <td>0.995517</td>\n",
       "      <td>0.995118</td>\n",
       "      <td>0.992791</td>\n",
       "    </tr>\n",
       "    <tr>\n",
       "      <th>2</th>\n",
       "      <td>clf_50</td>\n",
       "      <td>0.991429</td>\n",
       "      <td>0.997999</td>\n",
       "      <td>0.997563</td>\n",
       "      <td>0.997045</td>\n",
       "    </tr>\n",
       "    <tr>\n",
       "      <th>3</th>\n",
       "      <td>clf_10_val</td>\n",
       "      <td>0.869871</td>\n",
       "      <td>0.969724</td>\n",
       "      <td>0.969291</td>\n",
       "      <td>0.947831</td>\n",
       "    </tr>\n",
       "    <tr>\n",
       "      <th>4</th>\n",
       "      <td>clf_25_val</td>\n",
       "      <td>0.979856</td>\n",
       "      <td>0.995313</td>\n",
       "      <td>0.995276</td>\n",
       "      <td>0.991984</td>\n",
       "    </tr>\n",
       "    <tr>\n",
       "      <th>5</th>\n",
       "      <td>clf_50_val</td>\n",
       "      <td>0.991137</td>\n",
       "      <td>0.997938</td>\n",
       "      <td>0.997201</td>\n",
       "      <td>0.997201</td>\n",
       "    </tr>\n",
       "    <tr>\n",
       "      <th>6</th>\n",
       "      <td>tree_10</td>\n",
       "      <td>1.0</td>\n",
       "      <td>1.0</td>\n",
       "      <td>1.0</td>\n",
       "      <td>1.0</td>\n",
       "    </tr>\n",
       "    <tr>\n",
       "      <th>7</th>\n",
       "      <td>tree_25</td>\n",
       "      <td>0.999793</td>\n",
       "      <td>0.999952</td>\n",
       "      <td>0.999935</td>\n",
       "      <td>0.999935</td>\n",
       "    </tr>\n",
       "    <tr>\n",
       "      <th>8</th>\n",
       "      <td>tree_50</td>\n",
       "      <td>0.999948</td>\n",
       "      <td>0.999988</td>\n",
       "      <td>1.0</td>\n",
       "      <td>0.999968</td>\n",
       "    </tr>\n",
       "    <tr>\n",
       "      <th>9</th>\n",
       "      <td>tree_10_val</td>\n",
       "      <td>0.940173</td>\n",
       "      <td>0.986081</td>\n",
       "      <td>0.980676</td>\n",
       "      <td>0.98155</td>\n",
       "    </tr>\n",
       "    <tr>\n",
       "      <th>10</th>\n",
       "      <td>tree_25_val</td>\n",
       "      <td>0.94541</td>\n",
       "      <td>0.987299</td>\n",
       "      <td>0.982452</td>\n",
       "      <td>0.983077</td>\n",
       "    </tr>\n",
       "    <tr>\n",
       "      <th>11</th>\n",
       "      <td>tree_50_val</td>\n",
       "      <td>0.942187</td>\n",
       "      <td>0.986549</td>\n",
       "      <td>0.982662</td>\n",
       "      <td>0.980786</td>\n",
       "    </tr>\n",
       "  </tbody>\n",
       "</table>\n",
       "</div>"
      ],
      "text/plain": [
       "           Name  R2_score  Accuracy Precision    Recall\n",
       "0        clf_10  0.859242  0.967148  0.969649  0.940934\n",
       "1        clf_25  0.980792  0.995517  0.995118  0.992791\n",
       "2        clf_50  0.991429  0.997999  0.997563  0.997045\n",
       "3    clf_10_val  0.869871  0.969724  0.969291  0.947831\n",
       "4    clf_25_val  0.979856  0.995313  0.995276  0.991984\n",
       "5    clf_50_val  0.991137  0.997938  0.997201  0.997201\n",
       "6       tree_10       1.0       1.0       1.0       1.0\n",
       "7       tree_25  0.999793  0.999952  0.999935  0.999935\n",
       "8       tree_50  0.999948  0.999988       1.0  0.999968\n",
       "9   tree_10_val  0.940173  0.986081  0.980676   0.98155\n",
       "10  tree_25_val   0.94541  0.987299  0.982452  0.983077\n",
       "11  tree_50_val  0.942187  0.986549  0.982662  0.980786"
      ]
     },
     "execution_count": 61,
     "metadata": {},
     "output_type": "execute_result"
    }
   ],
   "source": [
    "metric"
   ]
  },
  {
   "cell_type": "markdown",
   "id": "d98deb71",
   "metadata": {},
   "source": [
    "### Regresja logistyczna"
   ]
  },
  {
   "cell_type": "code",
   "execution_count": 62,
   "id": "946d1756",
   "metadata": {},
   "outputs": [],
   "source": [
    "from sklearn.linear_model import LogisticRegression"
   ]
  },
  {
   "cell_type": "code",
   "execution_count": 63,
   "id": "5c2bfeab",
   "metadata": {},
   "outputs": [],
   "source": [
    "logisticRegr = LogisticRegression(solver = 'lbfgs')"
   ]
  },
  {
   "cell_type": "code",
   "execution_count": 64,
   "id": "9bc05eb9",
   "metadata": {},
   "outputs": [
    {
     "data": {
      "text/plain": [
       "LogisticRegression()"
      ]
     },
     "execution_count": 64,
     "metadata": {},
     "output_type": "execute_result"
    }
   ],
   "source": [
    "logisticRegr.fit(x_train4, y_traina)"
   ]
  },
  {
   "cell_type": "code",
   "execution_count": 65,
   "id": "a1e4bc75",
   "metadata": {},
   "outputs": [
    {
     "name": "stderr",
     "output_type": "stream",
     "text": [
      "C:\\Users\\User\\AppData\\Local\\Temp\\ipykernel_17492\\1185599655.py:1: FutureWarning:\n",
      "\n",
      "The frame.append method is deprecated and will be removed from pandas in a future version. Use pandas.concat instead.\n",
      "\n"
     ]
    }
   ],
   "source": [
    "metric = metric.append(metrics_score(logisticRegr, x_train4, y_traina, 'LogReg_10'), ignore_index=True)"
   ]
  },
  {
   "cell_type": "code",
   "execution_count": 66,
   "id": "37154416",
   "metadata": {},
   "outputs": [
    {
     "data": {
      "text/html": [
       "<div>\n",
       "<style scoped>\n",
       "    .dataframe tbody tr th:only-of-type {\n",
       "        vertical-align: middle;\n",
       "    }\n",
       "\n",
       "    .dataframe tbody tr th {\n",
       "        vertical-align: top;\n",
       "    }\n",
       "\n",
       "    .dataframe thead th {\n",
       "        text-align: right;\n",
       "    }\n",
       "</style>\n",
       "<table border=\"1\" class=\"dataframe\">\n",
       "  <thead>\n",
       "    <tr style=\"text-align: right;\">\n",
       "      <th></th>\n",
       "      <th>Name</th>\n",
       "      <th>R2_score</th>\n",
       "      <th>Accuracy</th>\n",
       "      <th>Precision</th>\n",
       "      <th>Recall</th>\n",
       "    </tr>\n",
       "  </thead>\n",
       "  <tbody>\n",
       "    <tr>\n",
       "      <th>0</th>\n",
       "      <td>clf_10</td>\n",
       "      <td>0.859242</td>\n",
       "      <td>0.967148</td>\n",
       "      <td>0.969649</td>\n",
       "      <td>0.940934</td>\n",
       "    </tr>\n",
       "    <tr>\n",
       "      <th>1</th>\n",
       "      <td>clf_25</td>\n",
       "      <td>0.980792</td>\n",
       "      <td>0.995517</td>\n",
       "      <td>0.995118</td>\n",
       "      <td>0.992791</td>\n",
       "    </tr>\n",
       "    <tr>\n",
       "      <th>2</th>\n",
       "      <td>clf_50</td>\n",
       "      <td>0.991429</td>\n",
       "      <td>0.997999</td>\n",
       "      <td>0.997563</td>\n",
       "      <td>0.997045</td>\n",
       "    </tr>\n",
       "    <tr>\n",
       "      <th>3</th>\n",
       "      <td>clf_10_val</td>\n",
       "      <td>0.869871</td>\n",
       "      <td>0.969724</td>\n",
       "      <td>0.969291</td>\n",
       "      <td>0.947831</td>\n",
       "    </tr>\n",
       "    <tr>\n",
       "      <th>4</th>\n",
       "      <td>clf_25_val</td>\n",
       "      <td>0.979856</td>\n",
       "      <td>0.995313</td>\n",
       "      <td>0.995276</td>\n",
       "      <td>0.991984</td>\n",
       "    </tr>\n",
       "    <tr>\n",
       "      <th>5</th>\n",
       "      <td>clf_50_val</td>\n",
       "      <td>0.991137</td>\n",
       "      <td>0.997938</td>\n",
       "      <td>0.997201</td>\n",
       "      <td>0.997201</td>\n",
       "    </tr>\n",
       "    <tr>\n",
       "      <th>6</th>\n",
       "      <td>tree_10</td>\n",
       "      <td>1.0</td>\n",
       "      <td>1.0</td>\n",
       "      <td>1.0</td>\n",
       "      <td>1.0</td>\n",
       "    </tr>\n",
       "    <tr>\n",
       "      <th>7</th>\n",
       "      <td>tree_25</td>\n",
       "      <td>0.999793</td>\n",
       "      <td>0.999952</td>\n",
       "      <td>0.999935</td>\n",
       "      <td>0.999935</td>\n",
       "    </tr>\n",
       "    <tr>\n",
       "      <th>8</th>\n",
       "      <td>tree_50</td>\n",
       "      <td>0.999948</td>\n",
       "      <td>0.999988</td>\n",
       "      <td>1.0</td>\n",
       "      <td>0.999968</td>\n",
       "    </tr>\n",
       "    <tr>\n",
       "      <th>9</th>\n",
       "      <td>tree_10_val</td>\n",
       "      <td>0.940173</td>\n",
       "      <td>0.986081</td>\n",
       "      <td>0.980676</td>\n",
       "      <td>0.98155</td>\n",
       "    </tr>\n",
       "    <tr>\n",
       "      <th>10</th>\n",
       "      <td>tree_25_val</td>\n",
       "      <td>0.94541</td>\n",
       "      <td>0.987299</td>\n",
       "      <td>0.982452</td>\n",
       "      <td>0.983077</td>\n",
       "    </tr>\n",
       "    <tr>\n",
       "      <th>11</th>\n",
       "      <td>tree_50_val</td>\n",
       "      <td>0.942187</td>\n",
       "      <td>0.986549</td>\n",
       "      <td>0.982662</td>\n",
       "      <td>0.980786</td>\n",
       "    </tr>\n",
       "    <tr>\n",
       "      <th>12</th>\n",
       "      <td>LogReg_10</td>\n",
       "      <td>0.856247</td>\n",
       "      <td>0.966449</td>\n",
       "      <td>0.964113</td>\n",
       "      <td>0.944766</td>\n",
       "    </tr>\n",
       "  </tbody>\n",
       "</table>\n",
       "</div>"
      ],
      "text/plain": [
       "           Name  R2_score  Accuracy Precision    Recall\n",
       "0        clf_10  0.859242  0.967148  0.969649  0.940934\n",
       "1        clf_25  0.980792  0.995517  0.995118  0.992791\n",
       "2        clf_50  0.991429  0.997999  0.997563  0.997045\n",
       "3    clf_10_val  0.869871  0.969724  0.969291  0.947831\n",
       "4    clf_25_val  0.979856  0.995313  0.995276  0.991984\n",
       "5    clf_50_val  0.991137  0.997938  0.997201  0.997201\n",
       "6       tree_10       1.0       1.0       1.0       1.0\n",
       "7       tree_25  0.999793  0.999952  0.999935  0.999935\n",
       "8       tree_50  0.999948  0.999988       1.0  0.999968\n",
       "9   tree_10_val  0.940173  0.986081  0.980676   0.98155\n",
       "10  tree_25_val   0.94541  0.987299  0.982452  0.983077\n",
       "11  tree_50_val  0.942187  0.986549  0.982662  0.980786\n",
       "12    LogReg_10  0.856247  0.966449  0.964113  0.944766"
      ]
     },
     "execution_count": 66,
     "metadata": {},
     "output_type": "execute_result"
    }
   ],
   "source": [
    "metric"
   ]
  },
  {
   "cell_type": "code",
   "execution_count": 67,
   "id": "e0d68ea1",
   "metadata": {},
   "outputs": [
    {
     "name": "stderr",
     "output_type": "stream",
     "text": [
      "C:\\Users\\User\\AppData\\Local\\Temp\\ipykernel_17492\\3242914070.py:3: FutureWarning:\n",
      "\n",
      "The frame.append method is deprecated and will be removed from pandas in a future version. Use pandas.concat instead.\n",
      "\n"
     ]
    }
   ],
   "source": [
    "lr2 = LogisticRegression(solver = 'lbfgs')\n",
    "lr2.fit(x_train2, y_traina)\n",
    "metric = metric.append(metrics_score(lr2, x_train2, y_traina, 'LogReg_50'), ignore_index=True)"
   ]
  },
  {
   "cell_type": "code",
   "execution_count": 68,
   "id": "12eac472",
   "metadata": {},
   "outputs": [
    {
     "name": "stderr",
     "output_type": "stream",
     "text": [
      "C:\\Users\\User\\AppData\\Local\\Temp\\ipykernel_17492\\1699710356.py:3: FutureWarning:\n",
      "\n",
      "The frame.append method is deprecated and will be removed from pandas in a future version. Use pandas.concat instead.\n",
      "\n"
     ]
    }
   ],
   "source": [
    "lr3 = LogisticRegression(solver = 'lbfgs')\n",
    "lr3.fit(x_train3, y_traina)\n",
    "metric = metric.append(metrics_score(lr3, x_train3, y_traina, 'LogReg_25'), ignore_index=True)"
   ]
  },
  {
   "cell_type": "code",
   "execution_count": 69,
   "id": "99e14540",
   "metadata": {},
   "outputs": [
    {
     "data": {
      "text/html": [
       "<div>\n",
       "<style scoped>\n",
       "    .dataframe tbody tr th:only-of-type {\n",
       "        vertical-align: middle;\n",
       "    }\n",
       "\n",
       "    .dataframe tbody tr th {\n",
       "        vertical-align: top;\n",
       "    }\n",
       "\n",
       "    .dataframe thead th {\n",
       "        text-align: right;\n",
       "    }\n",
       "</style>\n",
       "<table border=\"1\" class=\"dataframe\">\n",
       "  <thead>\n",
       "    <tr style=\"text-align: right;\">\n",
       "      <th></th>\n",
       "      <th>Name</th>\n",
       "      <th>R2_score</th>\n",
       "      <th>Accuracy</th>\n",
       "      <th>Precision</th>\n",
       "      <th>Recall</th>\n",
       "    </tr>\n",
       "  </thead>\n",
       "  <tbody>\n",
       "    <tr>\n",
       "      <th>0</th>\n",
       "      <td>clf_10</td>\n",
       "      <td>0.859242</td>\n",
       "      <td>0.967148</td>\n",
       "      <td>0.969649</td>\n",
       "      <td>0.940934</td>\n",
       "    </tr>\n",
       "    <tr>\n",
       "      <th>1</th>\n",
       "      <td>clf_25</td>\n",
       "      <td>0.980792</td>\n",
       "      <td>0.995517</td>\n",
       "      <td>0.995118</td>\n",
       "      <td>0.992791</td>\n",
       "    </tr>\n",
       "    <tr>\n",
       "      <th>2</th>\n",
       "      <td>clf_50</td>\n",
       "      <td>0.991429</td>\n",
       "      <td>0.997999</td>\n",
       "      <td>0.997563</td>\n",
       "      <td>0.997045</td>\n",
       "    </tr>\n",
       "    <tr>\n",
       "      <th>3</th>\n",
       "      <td>clf_10_val</td>\n",
       "      <td>0.869871</td>\n",
       "      <td>0.969724</td>\n",
       "      <td>0.969291</td>\n",
       "      <td>0.947831</td>\n",
       "    </tr>\n",
       "    <tr>\n",
       "      <th>4</th>\n",
       "      <td>clf_25_val</td>\n",
       "      <td>0.979856</td>\n",
       "      <td>0.995313</td>\n",
       "      <td>0.995276</td>\n",
       "      <td>0.991984</td>\n",
       "    </tr>\n",
       "    <tr>\n",
       "      <th>5</th>\n",
       "      <td>clf_50_val</td>\n",
       "      <td>0.991137</td>\n",
       "      <td>0.997938</td>\n",
       "      <td>0.997201</td>\n",
       "      <td>0.997201</td>\n",
       "    </tr>\n",
       "    <tr>\n",
       "      <th>6</th>\n",
       "      <td>tree_10</td>\n",
       "      <td>1.0</td>\n",
       "      <td>1.0</td>\n",
       "      <td>1.0</td>\n",
       "      <td>1.0</td>\n",
       "    </tr>\n",
       "    <tr>\n",
       "      <th>7</th>\n",
       "      <td>tree_25</td>\n",
       "      <td>0.999793</td>\n",
       "      <td>0.999952</td>\n",
       "      <td>0.999935</td>\n",
       "      <td>0.999935</td>\n",
       "    </tr>\n",
       "    <tr>\n",
       "      <th>8</th>\n",
       "      <td>tree_50</td>\n",
       "      <td>0.999948</td>\n",
       "      <td>0.999988</td>\n",
       "      <td>1.0</td>\n",
       "      <td>0.999968</td>\n",
       "    </tr>\n",
       "    <tr>\n",
       "      <th>9</th>\n",
       "      <td>tree_10_val</td>\n",
       "      <td>0.940173</td>\n",
       "      <td>0.986081</td>\n",
       "      <td>0.980676</td>\n",
       "      <td>0.98155</td>\n",
       "    </tr>\n",
       "    <tr>\n",
       "      <th>10</th>\n",
       "      <td>tree_25_val</td>\n",
       "      <td>0.94541</td>\n",
       "      <td>0.987299</td>\n",
       "      <td>0.982452</td>\n",
       "      <td>0.983077</td>\n",
       "    </tr>\n",
       "    <tr>\n",
       "      <th>11</th>\n",
       "      <td>tree_50_val</td>\n",
       "      <td>0.942187</td>\n",
       "      <td>0.986549</td>\n",
       "      <td>0.982662</td>\n",
       "      <td>0.980786</td>\n",
       "    </tr>\n",
       "    <tr>\n",
       "      <th>12</th>\n",
       "      <td>LogReg_10</td>\n",
       "      <td>0.856247</td>\n",
       "      <td>0.966449</td>\n",
       "      <td>0.964113</td>\n",
       "      <td>0.944766</td>\n",
       "    </tr>\n",
       "    <tr>\n",
       "      <th>13</th>\n",
       "      <td>LogReg_50</td>\n",
       "      <td>0.990964</td>\n",
       "      <td>0.997891</td>\n",
       "      <td>0.997433</td>\n",
       "      <td>0.996883</td>\n",
       "    </tr>\n",
       "    <tr>\n",
       "      <th>14</th>\n",
       "      <td>LogReg_25</td>\n",
       "      <td>0.980637</td>\n",
       "      <td>0.995481</td>\n",
       "      <td>0.995311</td>\n",
       "      <td>0.992499</td>\n",
       "    </tr>\n",
       "  </tbody>\n",
       "</table>\n",
       "</div>"
      ],
      "text/plain": [
       "           Name  R2_score  Accuracy Precision    Recall\n",
       "0        clf_10  0.859242  0.967148  0.969649  0.940934\n",
       "1        clf_25  0.980792  0.995517  0.995118  0.992791\n",
       "2        clf_50  0.991429  0.997999  0.997563  0.997045\n",
       "3    clf_10_val  0.869871  0.969724  0.969291  0.947831\n",
       "4    clf_25_val  0.979856  0.995313  0.995276  0.991984\n",
       "5    clf_50_val  0.991137  0.997938  0.997201  0.997201\n",
       "6       tree_10       1.0       1.0       1.0       1.0\n",
       "7       tree_25  0.999793  0.999952  0.999935  0.999935\n",
       "8       tree_50  0.999948  0.999988       1.0  0.999968\n",
       "9   tree_10_val  0.940173  0.986081  0.980676   0.98155\n",
       "10  tree_25_val   0.94541  0.987299  0.982452  0.983077\n",
       "11  tree_50_val  0.942187  0.986549  0.982662  0.980786\n",
       "12    LogReg_10  0.856247  0.966449  0.964113  0.944766\n",
       "13    LogReg_50  0.990964  0.997891  0.997433  0.996883\n",
       "14    LogReg_25  0.980637  0.995481  0.995311  0.992499"
      ]
     },
     "execution_count": 69,
     "metadata": {},
     "output_type": "execute_result"
    }
   ],
   "source": [
    "metric"
   ]
  },
  {
   "cell_type": "code",
   "execution_count": 70,
   "id": "845621ef",
   "metadata": {},
   "outputs": [
    {
     "name": "stderr",
     "output_type": "stream",
     "text": [
      "C:\\Users\\User\\AppData\\Local\\Temp\\ipykernel_17492\\2507942424.py:1: FutureWarning:\n",
      "\n",
      "The frame.append method is deprecated and will be removed from pandas in a future version. Use pandas.concat instead.\n",
      "\n",
      "C:\\Users\\User\\AppData\\Local\\Temp\\ipykernel_17492\\2507942424.py:2: FutureWarning:\n",
      "\n",
      "The frame.append method is deprecated and will be removed from pandas in a future version. Use pandas.concat instead.\n",
      "\n",
      "C:\\Users\\User\\AppData\\Local\\Temp\\ipykernel_17492\\2507942424.py:3: FutureWarning:\n",
      "\n",
      "The frame.append method is deprecated and will be removed from pandas in a future version. Use pandas.concat instead.\n",
      "\n"
     ]
    }
   ],
   "source": [
    "metric = metric.append(metrics_score(logisticRegr, x_test4, y_testa, 'LogReg_10_val'), ignore_index=True)\n",
    "metric = metric.append(metrics_score(lr2, x_test2, y_testa, 'LogReg_50_val'), ignore_index=True)\n",
    "metric = metric.append(metrics_score(lr3, x_test3, y_testa, 'LogReg_25_val'), ignore_index=True)"
   ]
  },
  {
   "cell_type": "code",
   "execution_count": 71,
   "id": "eecc4b8f",
   "metadata": {},
   "outputs": [
    {
     "data": {
      "text/html": [
       "<div>\n",
       "<style scoped>\n",
       "    .dataframe tbody tr th:only-of-type {\n",
       "        vertical-align: middle;\n",
       "    }\n",
       "\n",
       "    .dataframe tbody tr th {\n",
       "        vertical-align: top;\n",
       "    }\n",
       "\n",
       "    .dataframe thead th {\n",
       "        text-align: right;\n",
       "    }\n",
       "</style>\n",
       "<table border=\"1\" class=\"dataframe\">\n",
       "  <thead>\n",
       "    <tr style=\"text-align: right;\">\n",
       "      <th></th>\n",
       "      <th>Name</th>\n",
       "      <th>R2_score</th>\n",
       "      <th>Accuracy</th>\n",
       "      <th>Precision</th>\n",
       "      <th>Recall</th>\n",
       "    </tr>\n",
       "  </thead>\n",
       "  <tbody>\n",
       "    <tr>\n",
       "      <th>0</th>\n",
       "      <td>clf_10</td>\n",
       "      <td>0.859242</td>\n",
       "      <td>0.967148</td>\n",
       "      <td>0.969649</td>\n",
       "      <td>0.940934</td>\n",
       "    </tr>\n",
       "    <tr>\n",
       "      <th>1</th>\n",
       "      <td>clf_25</td>\n",
       "      <td>0.980792</td>\n",
       "      <td>0.995517</td>\n",
       "      <td>0.995118</td>\n",
       "      <td>0.992791</td>\n",
       "    </tr>\n",
       "    <tr>\n",
       "      <th>2</th>\n",
       "      <td>clf_50</td>\n",
       "      <td>0.991429</td>\n",
       "      <td>0.997999</td>\n",
       "      <td>0.997563</td>\n",
       "      <td>0.997045</td>\n",
       "    </tr>\n",
       "    <tr>\n",
       "      <th>3</th>\n",
       "      <td>clf_10_val</td>\n",
       "      <td>0.869871</td>\n",
       "      <td>0.969724</td>\n",
       "      <td>0.969291</td>\n",
       "      <td>0.947831</td>\n",
       "    </tr>\n",
       "    <tr>\n",
       "      <th>4</th>\n",
       "      <td>clf_25_val</td>\n",
       "      <td>0.979856</td>\n",
       "      <td>0.995313</td>\n",
       "      <td>0.995276</td>\n",
       "      <td>0.991984</td>\n",
       "    </tr>\n",
       "    <tr>\n",
       "      <th>5</th>\n",
       "      <td>clf_50_val</td>\n",
       "      <td>0.991137</td>\n",
       "      <td>0.997938</td>\n",
       "      <td>0.997201</td>\n",
       "      <td>0.997201</td>\n",
       "    </tr>\n",
       "    <tr>\n",
       "      <th>6</th>\n",
       "      <td>tree_10</td>\n",
       "      <td>1.0</td>\n",
       "      <td>1.0</td>\n",
       "      <td>1.0</td>\n",
       "      <td>1.0</td>\n",
       "    </tr>\n",
       "    <tr>\n",
       "      <th>7</th>\n",
       "      <td>tree_25</td>\n",
       "      <td>0.999793</td>\n",
       "      <td>0.999952</td>\n",
       "      <td>0.999935</td>\n",
       "      <td>0.999935</td>\n",
       "    </tr>\n",
       "    <tr>\n",
       "      <th>8</th>\n",
       "      <td>tree_50</td>\n",
       "      <td>0.999948</td>\n",
       "      <td>0.999988</td>\n",
       "      <td>1.0</td>\n",
       "      <td>0.999968</td>\n",
       "    </tr>\n",
       "    <tr>\n",
       "      <th>9</th>\n",
       "      <td>tree_10_val</td>\n",
       "      <td>0.940173</td>\n",
       "      <td>0.986081</td>\n",
       "      <td>0.980676</td>\n",
       "      <td>0.98155</td>\n",
       "    </tr>\n",
       "    <tr>\n",
       "      <th>10</th>\n",
       "      <td>tree_25_val</td>\n",
       "      <td>0.94541</td>\n",
       "      <td>0.987299</td>\n",
       "      <td>0.982452</td>\n",
       "      <td>0.983077</td>\n",
       "    </tr>\n",
       "    <tr>\n",
       "      <th>11</th>\n",
       "      <td>tree_50_val</td>\n",
       "      <td>0.942187</td>\n",
       "      <td>0.986549</td>\n",
       "      <td>0.982662</td>\n",
       "      <td>0.980786</td>\n",
       "    </tr>\n",
       "    <tr>\n",
       "      <th>12</th>\n",
       "      <td>LogReg_10</td>\n",
       "      <td>0.856247</td>\n",
       "      <td>0.966449</td>\n",
       "      <td>0.964113</td>\n",
       "      <td>0.944766</td>\n",
       "    </tr>\n",
       "    <tr>\n",
       "      <th>13</th>\n",
       "      <td>LogReg_50</td>\n",
       "      <td>0.990964</td>\n",
       "      <td>0.997891</td>\n",
       "      <td>0.997433</td>\n",
       "      <td>0.996883</td>\n",
       "    </tr>\n",
       "    <tr>\n",
       "      <th>14</th>\n",
       "      <td>LogReg_25</td>\n",
       "      <td>0.980637</td>\n",
       "      <td>0.995481</td>\n",
       "      <td>0.995311</td>\n",
       "      <td>0.992499</td>\n",
       "    </tr>\n",
       "    <tr>\n",
       "      <th>15</th>\n",
       "      <td>LogReg_10_val</td>\n",
       "      <td>0.866447</td>\n",
       "      <td>0.968927</td>\n",
       "      <td>0.964378</td>\n",
       "      <td>0.950757</td>\n",
       "    </tr>\n",
       "    <tr>\n",
       "      <th>16</th>\n",
       "      <td>LogReg_50_val</td>\n",
       "      <td>0.990331</td>\n",
       "      <td>0.99775</td>\n",
       "      <td>0.996946</td>\n",
       "      <td>0.996946</td>\n",
       "    </tr>\n",
       "    <tr>\n",
       "      <th>17</th>\n",
       "      <td>LogReg_25_val</td>\n",
       "      <td>0.979856</td>\n",
       "      <td>0.995313</td>\n",
       "      <td>0.995656</td>\n",
       "      <td>0.991602</td>\n",
       "    </tr>\n",
       "  </tbody>\n",
       "</table>\n",
       "</div>"
      ],
      "text/plain": [
       "             Name  R2_score  Accuracy Precision    Recall\n",
       "0          clf_10  0.859242  0.967148  0.969649  0.940934\n",
       "1          clf_25  0.980792  0.995517  0.995118  0.992791\n",
       "2          clf_50  0.991429  0.997999  0.997563  0.997045\n",
       "3      clf_10_val  0.869871  0.969724  0.969291  0.947831\n",
       "4      clf_25_val  0.979856  0.995313  0.995276  0.991984\n",
       "5      clf_50_val  0.991137  0.997938  0.997201  0.997201\n",
       "6         tree_10       1.0       1.0       1.0       1.0\n",
       "7         tree_25  0.999793  0.999952  0.999935  0.999935\n",
       "8         tree_50  0.999948  0.999988       1.0  0.999968\n",
       "9     tree_10_val  0.940173  0.986081  0.980676   0.98155\n",
       "10    tree_25_val   0.94541  0.987299  0.982452  0.983077\n",
       "11    tree_50_val  0.942187  0.986549  0.982662  0.980786\n",
       "12      LogReg_10  0.856247  0.966449  0.964113  0.944766\n",
       "13      LogReg_50  0.990964  0.997891  0.997433  0.996883\n",
       "14      LogReg_25  0.980637  0.995481  0.995311  0.992499\n",
       "15  LogReg_10_val  0.866447  0.968927  0.964378  0.950757\n",
       "16  LogReg_50_val  0.990331   0.99775  0.996946  0.996946\n",
       "17  LogReg_25_val  0.979856  0.995313  0.995656  0.991602"
      ]
     },
     "execution_count": 71,
     "metadata": {},
     "output_type": "execute_result"
    }
   ],
   "source": [
    "metric"
   ]
  },
  {
   "cell_type": "code",
   "execution_count": 72,
   "id": "e02e7114",
   "metadata": {},
   "outputs": [
    {
     "name": "stderr",
     "output_type": "stream",
     "text": [
      "C:\\Users\\User\\AppData\\Local\\Temp\\ipykernel_17492\\3518246734.py:1: FutureWarning:\n",
      "\n",
      "The frame.append method is deprecated and will be removed from pandas in a future version. Use pandas.concat instead.\n",
      "\n"
     ]
    }
   ],
   "source": [
    "metric = metric.append(metrics_score(clf2, x_test2, y_testa, 'clf_50_test'), ignore_index=True)"
   ]
  },
  {
   "cell_type": "code",
   "execution_count": 73,
   "id": "0ab3c54b",
   "metadata": {},
   "outputs": [
    {
     "data": {
      "text/html": [
       "<div>\n",
       "<style scoped>\n",
       "    .dataframe tbody tr th:only-of-type {\n",
       "        vertical-align: middle;\n",
       "    }\n",
       "\n",
       "    .dataframe tbody tr th {\n",
       "        vertical-align: top;\n",
       "    }\n",
       "\n",
       "    .dataframe thead th {\n",
       "        text-align: right;\n",
       "    }\n",
       "</style>\n",
       "<table border=\"1\" class=\"dataframe\">\n",
       "  <thead>\n",
       "    <tr style=\"text-align: right;\">\n",
       "      <th></th>\n",
       "      <th>Name</th>\n",
       "      <th>R2_score</th>\n",
       "      <th>Accuracy</th>\n",
       "      <th>Precision</th>\n",
       "      <th>Recall</th>\n",
       "    </tr>\n",
       "  </thead>\n",
       "  <tbody>\n",
       "    <tr>\n",
       "      <th>0</th>\n",
       "      <td>clf_10</td>\n",
       "      <td>0.859242</td>\n",
       "      <td>0.967148</td>\n",
       "      <td>0.969649</td>\n",
       "      <td>0.940934</td>\n",
       "    </tr>\n",
       "    <tr>\n",
       "      <th>1</th>\n",
       "      <td>clf_25</td>\n",
       "      <td>0.980792</td>\n",
       "      <td>0.995517</td>\n",
       "      <td>0.995118</td>\n",
       "      <td>0.992791</td>\n",
       "    </tr>\n",
       "    <tr>\n",
       "      <th>2</th>\n",
       "      <td>clf_50</td>\n",
       "      <td>0.991429</td>\n",
       "      <td>0.997999</td>\n",
       "      <td>0.997563</td>\n",
       "      <td>0.997045</td>\n",
       "    </tr>\n",
       "    <tr>\n",
       "      <th>3</th>\n",
       "      <td>clf_10_val</td>\n",
       "      <td>0.869871</td>\n",
       "      <td>0.969724</td>\n",
       "      <td>0.969291</td>\n",
       "      <td>0.947831</td>\n",
       "    </tr>\n",
       "    <tr>\n",
       "      <th>4</th>\n",
       "      <td>clf_25_val</td>\n",
       "      <td>0.979856</td>\n",
       "      <td>0.995313</td>\n",
       "      <td>0.995276</td>\n",
       "      <td>0.991984</td>\n",
       "    </tr>\n",
       "    <tr>\n",
       "      <th>5</th>\n",
       "      <td>clf_50_val</td>\n",
       "      <td>0.991137</td>\n",
       "      <td>0.997938</td>\n",
       "      <td>0.997201</td>\n",
       "      <td>0.997201</td>\n",
       "    </tr>\n",
       "    <tr>\n",
       "      <th>6</th>\n",
       "      <td>tree_10</td>\n",
       "      <td>1.0</td>\n",
       "      <td>1.0</td>\n",
       "      <td>1.0</td>\n",
       "      <td>1.0</td>\n",
       "    </tr>\n",
       "    <tr>\n",
       "      <th>7</th>\n",
       "      <td>tree_25</td>\n",
       "      <td>0.999793</td>\n",
       "      <td>0.999952</td>\n",
       "      <td>0.999935</td>\n",
       "      <td>0.999935</td>\n",
       "    </tr>\n",
       "    <tr>\n",
       "      <th>8</th>\n",
       "      <td>tree_50</td>\n",
       "      <td>0.999948</td>\n",
       "      <td>0.999988</td>\n",
       "      <td>1.0</td>\n",
       "      <td>0.999968</td>\n",
       "    </tr>\n",
       "    <tr>\n",
       "      <th>9</th>\n",
       "      <td>tree_10_val</td>\n",
       "      <td>0.940173</td>\n",
       "      <td>0.986081</td>\n",
       "      <td>0.980676</td>\n",
       "      <td>0.98155</td>\n",
       "    </tr>\n",
       "    <tr>\n",
       "      <th>10</th>\n",
       "      <td>tree_25_val</td>\n",
       "      <td>0.94541</td>\n",
       "      <td>0.987299</td>\n",
       "      <td>0.982452</td>\n",
       "      <td>0.983077</td>\n",
       "    </tr>\n",
       "    <tr>\n",
       "      <th>11</th>\n",
       "      <td>tree_50_val</td>\n",
       "      <td>0.942187</td>\n",
       "      <td>0.986549</td>\n",
       "      <td>0.982662</td>\n",
       "      <td>0.980786</td>\n",
       "    </tr>\n",
       "    <tr>\n",
       "      <th>12</th>\n",
       "      <td>LogReg_10</td>\n",
       "      <td>0.856247</td>\n",
       "      <td>0.966449</td>\n",
       "      <td>0.964113</td>\n",
       "      <td>0.944766</td>\n",
       "    </tr>\n",
       "    <tr>\n",
       "      <th>13</th>\n",
       "      <td>LogReg_50</td>\n",
       "      <td>0.990964</td>\n",
       "      <td>0.997891</td>\n",
       "      <td>0.997433</td>\n",
       "      <td>0.996883</td>\n",
       "    </tr>\n",
       "    <tr>\n",
       "      <th>14</th>\n",
       "      <td>LogReg_25</td>\n",
       "      <td>0.980637</td>\n",
       "      <td>0.995481</td>\n",
       "      <td>0.995311</td>\n",
       "      <td>0.992499</td>\n",
       "    </tr>\n",
       "    <tr>\n",
       "      <th>15</th>\n",
       "      <td>LogReg_10_val</td>\n",
       "      <td>0.866447</td>\n",
       "      <td>0.968927</td>\n",
       "      <td>0.964378</td>\n",
       "      <td>0.950757</td>\n",
       "    </tr>\n",
       "    <tr>\n",
       "      <th>16</th>\n",
       "      <td>LogReg_50_val</td>\n",
       "      <td>0.990331</td>\n",
       "      <td>0.99775</td>\n",
       "      <td>0.996946</td>\n",
       "      <td>0.996946</td>\n",
       "    </tr>\n",
       "    <tr>\n",
       "      <th>17</th>\n",
       "      <td>LogReg_25_val</td>\n",
       "      <td>0.979856</td>\n",
       "      <td>0.995313</td>\n",
       "      <td>0.995656</td>\n",
       "      <td>0.991602</td>\n",
       "    </tr>\n",
       "    <tr>\n",
       "      <th>18</th>\n",
       "      <td>clf_50_test</td>\n",
       "      <td>0.991137</td>\n",
       "      <td>0.997938</td>\n",
       "      <td>0.997201</td>\n",
       "      <td>0.997201</td>\n",
       "    </tr>\n",
       "  </tbody>\n",
       "</table>\n",
       "</div>"
      ],
      "text/plain": [
       "             Name  R2_score  Accuracy Precision    Recall\n",
       "0          clf_10  0.859242  0.967148  0.969649  0.940934\n",
       "1          clf_25  0.980792  0.995517  0.995118  0.992791\n",
       "2          clf_50  0.991429  0.997999  0.997563  0.997045\n",
       "3      clf_10_val  0.869871  0.969724  0.969291  0.947831\n",
       "4      clf_25_val  0.979856  0.995313  0.995276  0.991984\n",
       "5      clf_50_val  0.991137  0.997938  0.997201  0.997201\n",
       "6         tree_10       1.0       1.0       1.0       1.0\n",
       "7         tree_25  0.999793  0.999952  0.999935  0.999935\n",
       "8         tree_50  0.999948  0.999988       1.0  0.999968\n",
       "9     tree_10_val  0.940173  0.986081  0.980676   0.98155\n",
       "10    tree_25_val   0.94541  0.987299  0.982452  0.983077\n",
       "11    tree_50_val  0.942187  0.986549  0.982662  0.980786\n",
       "12      LogReg_10  0.856247  0.966449  0.964113  0.944766\n",
       "13      LogReg_50  0.990964  0.997891  0.997433  0.996883\n",
       "14      LogReg_25  0.980637  0.995481  0.995311  0.992499\n",
       "15  LogReg_10_val  0.866447  0.968927  0.964378  0.950757\n",
       "16  LogReg_50_val  0.990331   0.99775  0.996946  0.996946\n",
       "17  LogReg_25_val  0.979856  0.995313  0.995656  0.991602\n",
       "18    clf_50_test  0.991137  0.997938  0.997201  0.997201"
      ]
     },
     "execution_count": 73,
     "metadata": {},
     "output_type": "execute_result"
    }
   ],
   "source": [
    "metric"
   ]
  },
  {
   "cell_type": "code",
   "execution_count": null,
   "id": "4e2d9b73",
   "metadata": {},
   "outputs": [],
   "source": []
  }
 ],
 "metadata": {
  "kernelspec": {
   "display_name": "WM",
   "language": "python",
   "name": "wm"
  },
  "language_info": {
   "codemirror_mode": {
    "name": "ipython",
    "version": 3
   },
   "file_extension": ".py",
   "mimetype": "text/x-python",
   "name": "python",
   "nbconvert_exporter": "python",
   "pygments_lexer": "ipython3",
   "version": "3.10.4"
  }
 },
 "nbformat": 4,
 "nbformat_minor": 5
}
