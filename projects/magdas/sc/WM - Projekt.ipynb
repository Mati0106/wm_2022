{
 "cells": [
  {
   "cell_type": "code",
   "execution_count": 259,
   "id": "a671ce20",
   "metadata": {},
   "outputs": [],
   "source": [
    "import pandas as pd\n",
    "from pandas_profiling import ProfileReport\n",
    "import ipywidgets as widgets\n",
    "from ipywidgets import interact\n",
    "import plotly.express as px\n",
    "import seaborn as sns\n",
    "from matplotlib import pyplot as plt\n",
    "from sklearn import svm\n",
    "import numpy as np\n",
    "from sklearn.model_selection import train_test_split\n",
    "from sklearn import preprocessing"
   ]
  },
  {
   "cell_type": "code",
   "execution_count": 228,
   "id": "8cdf9a1e",
   "metadata": {},
   "outputs": [],
   "source": [
    "def read(path):\n",
    "    \"\"\"\n",
    "    wczytanie danych i usunięcie zbędnych kolumn\n",
    "    \"\"\"\n",
    "    df = pd.read_csv(path)\n",
    "    df = df.drop(['email', 'phone-number', 'credit_card', 'name'], axis = 1)\n",
    "    # zmiana na 0-1 zmienną\n",
    "    df.loc[(df.hotel == 'City Hotel'), 'hotel'] = 0\n",
    "    df.loc[(df.hotel == 'Resort Hotel'), 'hotel'] = 1\n",
    "    return df"
   ]
  },
  {
   "cell_type": "code",
   "execution_count": 250,
   "id": "024784f0",
   "metadata": {},
   "outputs": [],
   "source": [
    "df = read(r'C:\\Users\\User\\Desktop\\repozytoria\\wm_2022\\projects\\magdas\\data\\hotel_booking.csv')"
   ]
  },
  {
   "cell_type": "code",
   "execution_count": 78,
   "id": "14673553",
   "metadata": {},
   "outputs": [],
   "source": [
    "# profile = df.drop(['hotel', 'arrival_date_month', 'meal', 'country', 'market_segment', 'distribution_channel', 'reserved_room_type',\n",
    "#                  'assigned_room_type', 'deposit_type', 'customer_type', 'reservation_status', 'reservation_status_date',\n",
    "#                  'name'], axis = 1)"
   ]
  },
  {
   "cell_type": "code",
   "execution_count": 255,
   "id": "5ff7a354",
   "metadata": {},
   "outputs": [],
   "source": [
    "#prof = ProfileReport(df,explorative=True)\n",
    "#prof.to_file(\"output.pdf\")"
   ]
  },
  {
   "cell_type": "code",
   "execution_count": 124,
   "id": "9c536a10",
   "metadata": {},
   "outputs": [
    {
     "data": {
      "text/html": [
       "<div>\n",
       "<style scoped>\n",
       "    .dataframe tbody tr th:only-of-type {\n",
       "        vertical-align: middle;\n",
       "    }\n",
       "\n",
       "    .dataframe tbody tr th {\n",
       "        vertical-align: top;\n",
       "    }\n",
       "\n",
       "    .dataframe thead th {\n",
       "        text-align: right;\n",
       "    }\n",
       "</style>\n",
       "<table border=\"1\" class=\"dataframe\">\n",
       "  <thead>\n",
       "    <tr style=\"text-align: right;\">\n",
       "      <th></th>\n",
       "      <th>hotel</th>\n",
       "      <th>is_canceled</th>\n",
       "      <th>lead_time</th>\n",
       "      <th>arrival_date_year</th>\n",
       "      <th>arrival_date_month</th>\n",
       "      <th>arrival_date_week_number</th>\n",
       "      <th>arrival_date_day_of_month</th>\n",
       "      <th>stays_in_weekend_nights</th>\n",
       "      <th>stays_in_week_nights</th>\n",
       "      <th>adults</th>\n",
       "      <th>...</th>\n",
       "      <th>customer_type</th>\n",
       "      <th>adr</th>\n",
       "      <th>required_car_parking_spaces</th>\n",
       "      <th>total_of_special_requests</th>\n",
       "      <th>reservation_status</th>\n",
       "      <th>reservation_status_date</th>\n",
       "      <th>name</th>\n",
       "      <th>email</th>\n",
       "      <th>phone-number</th>\n",
       "      <th>credit_card</th>\n",
       "    </tr>\n",
       "  </thead>\n",
       "  <tbody>\n",
       "    <tr>\n",
       "      <th>0</th>\n",
       "      <td>Resort Hotel</td>\n",
       "      <td>0</td>\n",
       "      <td>342</td>\n",
       "      <td>2015</td>\n",
       "      <td>July</td>\n",
       "      <td>27</td>\n",
       "      <td>1</td>\n",
       "      <td>0</td>\n",
       "      <td>0</td>\n",
       "      <td>2</td>\n",
       "      <td>...</td>\n",
       "      <td>Transient</td>\n",
       "      <td>0.0</td>\n",
       "      <td>0</td>\n",
       "      <td>0</td>\n",
       "      <td>Check-Out</td>\n",
       "      <td>2015-07-01</td>\n",
       "      <td>Ernest Barnes</td>\n",
       "      <td>Ernest.Barnes31@outlook.com</td>\n",
       "      <td>669-792-1661</td>\n",
       "      <td>************4322</td>\n",
       "    </tr>\n",
       "    <tr>\n",
       "      <th>1</th>\n",
       "      <td>Resort Hotel</td>\n",
       "      <td>0</td>\n",
       "      <td>737</td>\n",
       "      <td>2015</td>\n",
       "      <td>July</td>\n",
       "      <td>27</td>\n",
       "      <td>1</td>\n",
       "      <td>0</td>\n",
       "      <td>0</td>\n",
       "      <td>2</td>\n",
       "      <td>...</td>\n",
       "      <td>Transient</td>\n",
       "      <td>0.0</td>\n",
       "      <td>0</td>\n",
       "      <td>0</td>\n",
       "      <td>Check-Out</td>\n",
       "      <td>2015-07-01</td>\n",
       "      <td>Andrea Baker</td>\n",
       "      <td>Andrea_Baker94@aol.com</td>\n",
       "      <td>858-637-6955</td>\n",
       "      <td>************9157</td>\n",
       "    </tr>\n",
       "    <tr>\n",
       "      <th>2</th>\n",
       "      <td>Resort Hotel</td>\n",
       "      <td>0</td>\n",
       "      <td>7</td>\n",
       "      <td>2015</td>\n",
       "      <td>July</td>\n",
       "      <td>27</td>\n",
       "      <td>1</td>\n",
       "      <td>0</td>\n",
       "      <td>1</td>\n",
       "      <td>1</td>\n",
       "      <td>...</td>\n",
       "      <td>Transient</td>\n",
       "      <td>75.0</td>\n",
       "      <td>0</td>\n",
       "      <td>0</td>\n",
       "      <td>Check-Out</td>\n",
       "      <td>2015-07-02</td>\n",
       "      <td>Rebecca Parker</td>\n",
       "      <td>Rebecca_Parker@comcast.net</td>\n",
       "      <td>652-885-2745</td>\n",
       "      <td>************3734</td>\n",
       "    </tr>\n",
       "    <tr>\n",
       "      <th>3</th>\n",
       "      <td>Resort Hotel</td>\n",
       "      <td>0</td>\n",
       "      <td>13</td>\n",
       "      <td>2015</td>\n",
       "      <td>July</td>\n",
       "      <td>27</td>\n",
       "      <td>1</td>\n",
       "      <td>0</td>\n",
       "      <td>1</td>\n",
       "      <td>1</td>\n",
       "      <td>...</td>\n",
       "      <td>Transient</td>\n",
       "      <td>75.0</td>\n",
       "      <td>0</td>\n",
       "      <td>0</td>\n",
       "      <td>Check-Out</td>\n",
       "      <td>2015-07-02</td>\n",
       "      <td>Laura Murray</td>\n",
       "      <td>Laura_M@gmail.com</td>\n",
       "      <td>364-656-8427</td>\n",
       "      <td>************5677</td>\n",
       "    </tr>\n",
       "    <tr>\n",
       "      <th>4</th>\n",
       "      <td>Resort Hotel</td>\n",
       "      <td>0</td>\n",
       "      <td>14</td>\n",
       "      <td>2015</td>\n",
       "      <td>July</td>\n",
       "      <td>27</td>\n",
       "      <td>1</td>\n",
       "      <td>0</td>\n",
       "      <td>2</td>\n",
       "      <td>2</td>\n",
       "      <td>...</td>\n",
       "      <td>Transient</td>\n",
       "      <td>98.0</td>\n",
       "      <td>0</td>\n",
       "      <td>1</td>\n",
       "      <td>Check-Out</td>\n",
       "      <td>2015-07-03</td>\n",
       "      <td>Linda Hines</td>\n",
       "      <td>LHines@verizon.com</td>\n",
       "      <td>713-226-5883</td>\n",
       "      <td>************5498</td>\n",
       "    </tr>\n",
       "  </tbody>\n",
       "</table>\n",
       "<p>5 rows × 36 columns</p>\n",
       "</div>"
      ],
      "text/plain": [
       "          hotel  is_canceled  lead_time  arrival_date_year arrival_date_month  \\\n",
       "0  Resort Hotel            0        342               2015               July   \n",
       "1  Resort Hotel            0        737               2015               July   \n",
       "2  Resort Hotel            0          7               2015               July   \n",
       "3  Resort Hotel            0         13               2015               July   \n",
       "4  Resort Hotel            0         14               2015               July   \n",
       "\n",
       "   arrival_date_week_number  arrival_date_day_of_month  \\\n",
       "0                        27                          1   \n",
       "1                        27                          1   \n",
       "2                        27                          1   \n",
       "3                        27                          1   \n",
       "4                        27                          1   \n",
       "\n",
       "   stays_in_weekend_nights  stays_in_week_nights  adults  ...  customer_type  \\\n",
       "0                        0                     0       2  ...      Transient   \n",
       "1                        0                     0       2  ...      Transient   \n",
       "2                        0                     1       1  ...      Transient   \n",
       "3                        0                     1       1  ...      Transient   \n",
       "4                        0                     2       2  ...      Transient   \n",
       "\n",
       "    adr required_car_parking_spaces total_of_special_requests  \\\n",
       "0   0.0                           0                         0   \n",
       "1   0.0                           0                         0   \n",
       "2  75.0                           0                         0   \n",
       "3  75.0                           0                         0   \n",
       "4  98.0                           0                         1   \n",
       "\n",
       "  reservation_status reservation_status_date            name  \\\n",
       "0          Check-Out              2015-07-01   Ernest Barnes   \n",
       "1          Check-Out              2015-07-01    Andrea Baker   \n",
       "2          Check-Out              2015-07-02  Rebecca Parker   \n",
       "3          Check-Out              2015-07-02    Laura Murray   \n",
       "4          Check-Out              2015-07-03     Linda Hines   \n",
       "\n",
       "                         email  phone-number       credit_card  \n",
       "0  Ernest.Barnes31@outlook.com  669-792-1661  ************4322  \n",
       "1       Andrea_Baker94@aol.com  858-637-6955  ************9157  \n",
       "2   Rebecca_Parker@comcast.net  652-885-2745  ************3734  \n",
       "3            Laura_M@gmail.com  364-656-8427  ************5677  \n",
       "4           LHines@verizon.com  713-226-5883  ************5498  \n",
       "\n",
       "[5 rows x 36 columns]"
      ]
     },
     "execution_count": 124,
     "metadata": {},
     "output_type": "execute_result"
    }
   ],
   "source": [
    "df.head()"
   ]
  },
  {
   "cell_type": "code",
   "execution_count": 130,
   "id": "5853f38c",
   "metadata": {},
   "outputs": [
    {
     "data": {
      "application/vnd.jupyter.widget-view+json": {
       "model_id": "cacae40bdd8b430b8f3682f9d8e7227f",
       "version_major": 2,
       "version_minor": 0
      },
      "text/plain": [
       "interactive(children=(Dropdown(description='kolumna', options=('lead_time', 'arrival_date_year', 'arrival_date…"
      ]
     },
     "metadata": {},
     "output_type": "display_data"
    }
   ],
   "source": [
    "@interact(kolumna = ['lead_time', 'arrival_date_year',\n",
    "       'arrival_date_month', 'arrival_date_week_number',\n",
    "       'arrival_date_day_of_month', 'stays_in_weekend_nights',\n",
    "       'stays_in_week_nights', 'adults', 'children', 'babies', \n",
    "       'previous_cancellations',\n",
    "       'previous_bookings_not_canceled', 'booking_changes', \n",
    "       'days_in_waiting_list', 'adr','required_car_parking_spaces', 'total_of_special_requests'])\n",
    "def draw_box_plot(kolumna):\n",
    "    histogram = px.histogram(data_frame=df, x=kolumna, barmode='relative', barnorm=None, histnorm='percent'\n",
    "             , color_discrete_sequence = ['lightblue']\n",
    "             , title=\"Histogram zmiennej \" + str(kolumna)\n",
    "             )\n",
    "    boxplot = px.box(data_frame=df,y=kolumna,title=\"Boxplot zmiennej \" + str(kolumna) )\n",
    "    return histogram.show(), boxplot.show()"
   ]
  },
  {
   "cell_type": "code",
   "execution_count": 205,
   "id": "5ac5c3be",
   "metadata": {},
   "outputs": [],
   "source": [
    "def IQR(dataframe, column):\n",
    "    q3, q1 = np.nanpercentile(dataframe[column], [75 ,25])\n",
    "    iqr = q3 - q1\n",
    "    dataframe.loc[((dataframe[column] > (q3 + iqr)) | (dataframe[column] < (q3 - iqr))), column] = None\n",
    "    return dataframe"
   ]
  },
  {
   "cell_type": "code",
   "execution_count": 213,
   "id": "2c336ffb",
   "metadata": {},
   "outputs": [],
   "source": [
    "def outliery(dataframe):\n",
    "    dataframe = IQR(dataframe, 'stays_in_weekend_nights')\n",
    "    dataframe = IQR(dataframe, 'stays_in_week_nights')\n",
    "    dataframe.loc[(dataframe['adults'] > 10), 'adults'] = None\n",
    "    dataframe.loc[(dataframe['children'] > 4), 'children'] = None\n",
    "    dataframe.loc[(dataframe['babies'] > 3), 'babies'] = None\n",
    "    dataframe.loc[(dataframe['adr'] > 600), 'adr'] = None\n",
    "    dataframe = IQR(dataframe, 'adr')\n",
    "    dataframe.loc[(dataframe['required_car_parking_spaces'] > 3), 'required_car_parking_spaces'] = None\n",
    "    return dataframe"
   ]
  },
  {
   "cell_type": "code",
   "execution_count": 251,
   "id": "075b8b24",
   "metadata": {},
   "outputs": [],
   "source": [
    "df = outliery(df)"
   ]
  },
  {
   "cell_type": "code",
   "execution_count": 244,
   "id": "93c27b2d",
   "metadata": {},
   "outputs": [
    {
     "data": {
      "text/plain": [
       "hotel                                  0\n",
       "is_canceled                            0\n",
       "lead_time                              0\n",
       "arrival_date_year                      0\n",
       "arrival_date_month                     0\n",
       "arrival_date_week_number               0\n",
       "arrival_date_day_of_month              0\n",
       "stays_in_weekend_nights              344\n",
       "stays_in_week_nights               12498\n",
       "adults                                12\n",
       "children                               5\n",
       "babies                                 2\n",
       "meal                                   0\n",
       "country                              488\n",
       "market_segment                         0\n",
       "distribution_channel                   0\n",
       "is_repeated_guest                      0\n",
       "previous_cancellations                 0\n",
       "previous_bookings_not_canceled         0\n",
       "reserved_room_type                     0\n",
       "assigned_room_type                     0\n",
       "booking_changes                        0\n",
       "deposit_type                           0\n",
       "agent                              16340\n",
       "company                           112593\n",
       "days_in_waiting_list                   0\n",
       "customer_type                          0\n",
       "adr                                37502\n",
       "required_car_parking_spaces            2\n",
       "total_of_special_requests              0\n",
       "reservation_status                     0\n",
       "reservation_status_date                0\n",
       "dtype: int64"
      ]
     },
     "execution_count": 244,
     "metadata": {},
     "output_type": "execute_result"
    }
   ],
   "source": [
    "df.isnull().sum()"
   ]
  },
  {
   "cell_type": "code",
   "execution_count": 218,
   "id": "f3a498f4",
   "metadata": {},
   "outputs": [
    {
     "data": {
      "text/plain": [
       "117.11374691822633"
      ]
     },
     "execution_count": 218,
     "metadata": {},
     "output_type": "execute_result"
    }
   ],
   "source": [
    "np.mean(df.adr)"
   ]
  },
  {
   "cell_type": "code",
   "execution_count": 252,
   "id": "a3d7e43b",
   "metadata": {},
   "outputs": [],
   "source": [
    "def braki(dataframe):\n",
    "    # usuwamy zmienną company, bo mamy 94% braków danych\n",
    "    dataframe = dataframe.drop(['company'], axis = 1)\n",
    "    dataframe.loc[(dataframe.agent.isnull()), 'agent'] = 'Brak'\n",
    "    dataframe.loc[(dataframe.adr.isnull()), 'adr'] = np.mean(dataframe.adr)\n",
    "    dataframe.loc[(dataframe.stays_in_week_nights.isnull()), 'stays_in_week_nights'] = np.mean(dataframe.stays_in_week_nights)\n",
    "    dataframe.loc[(dataframe.lead_time.isnull()), 'stays_in_week_nights'] = np.mean(dataframe.lead_time)\n",
    "    # Usuwamy pozostałe rekordy < 1%\n",
    "    dataframe = dataframe.dropna()\n",
    "    return dataframe"
   ]
  },
  {
   "cell_type": "code",
   "execution_count": 253,
   "id": "aaa77500",
   "metadata": {},
   "outputs": [],
   "source": [
    "df = braki(df)"
   ]
  },
  {
   "cell_type": "code",
   "execution_count": 254,
   "id": "d66b4e83",
   "metadata": {},
   "outputs": [
    {
     "name": "stdout",
     "output_type": "stream",
     "text": [
      "<class 'pandas.core.frame.DataFrame'>\n",
      "Int64Index: 118540 entries, 0 to 119389\n",
      "Data columns (total 31 columns):\n",
      " #   Column                          Non-Null Count   Dtype  \n",
      "---  ------                          --------------   -----  \n",
      " 0   hotel                           118540 non-null  object \n",
      " 1   is_canceled                     118540 non-null  int64  \n",
      " 2   lead_time                       118540 non-null  int64  \n",
      " 3   arrival_date_year               118540 non-null  int64  \n",
      " 4   arrival_date_month              118540 non-null  object \n",
      " 5   arrival_date_week_number        118540 non-null  int64  \n",
      " 6   arrival_date_day_of_month       118540 non-null  int64  \n",
      " 7   stays_in_weekend_nights         118540 non-null  float64\n",
      " 8   stays_in_week_nights            118540 non-null  float64\n",
      " 9   adults                          118540 non-null  float64\n",
      " 10  children                        118540 non-null  float64\n",
      " 11  babies                          118540 non-null  float64\n",
      " 12  meal                            118540 non-null  object \n",
      " 13  country                         118540 non-null  object \n",
      " 14  market_segment                  118540 non-null  object \n",
      " 15  distribution_channel            118540 non-null  object \n",
      " 16  is_repeated_guest               118540 non-null  int64  \n",
      " 17  previous_cancellations          118540 non-null  int64  \n",
      " 18  previous_bookings_not_canceled  118540 non-null  int64  \n",
      " 19  reserved_room_type              118540 non-null  object \n",
      " 20  assigned_room_type              118540 non-null  object \n",
      " 21  booking_changes                 118540 non-null  int64  \n",
      " 22  deposit_type                    118540 non-null  object \n",
      " 23  agent                           118540 non-null  object \n",
      " 24  days_in_waiting_list            118540 non-null  int64  \n",
      " 25  customer_type                   118540 non-null  object \n",
      " 26  adr                             118540 non-null  float64\n",
      " 27  required_car_parking_spaces     118540 non-null  float64\n",
      " 28  total_of_special_requests       118540 non-null  int64  \n",
      " 29  reservation_status              118540 non-null  object \n",
      " 30  reservation_status_date         118540 non-null  object \n",
      "dtypes: float64(7), int64(11), object(13)\n",
      "memory usage: 28.9+ MB\n"
     ]
    }
   ],
   "source": [
    "df.info()"
   ]
  },
  {
   "cell_type": "code",
   "execution_count": 269,
   "id": "25817838",
   "metadata": {},
   "outputs": [],
   "source": [
    "y = df.is_canceled"
   ]
  },
  {
   "cell_type": "code",
   "execution_count": 270,
   "id": "18c71063",
   "metadata": {},
   "outputs": [],
   "source": [
    "X = df.drop(['is_canceled'], axis = 1)"
   ]
  },
  {
   "cell_type": "code",
   "execution_count": 271,
   "id": "37c27752",
   "metadata": {},
   "outputs": [],
   "source": [
    "# podział na treningowy i pozostałe\n",
    "x_train, x_Combine, y_train, y_Combine = train_test_split(X,y,\n",
    "                                              train_size=0.7,\n",
    "                                              random_state=1234)\n",
    "x_val, x_test, y_val, y_test = train_test_split(x_Combine,y_Combine,\n",
    "                                              train_size=0.8,\n",
    "                                              random_state=42)"
   ]
  },
  {
   "cell_type": "code",
   "execution_count": 280,
   "id": "b28856fe",
   "metadata": {},
   "outputs": [],
   "source": [
    "num = []\n",
    "obj = []\n",
    "for column in x_train.columns:\n",
    "    if x_train[column].dtypes != 'object':\n",
    "        num.append(column)\n",
    "    else:\n",
    "        obj.append(column)"
   ]
  },
  {
   "cell_type": "code",
   "execution_count": 283,
   "id": "4cf897e2",
   "metadata": {},
   "outputs": [],
   "source": [
    "x_train_n = x_train.drop(obj, axis = 1)\n",
    "x_val_n = x_val.drop(obj, axis = 1)"
   ]
  },
  {
   "cell_type": "code",
   "execution_count": 284,
   "id": "5455ab57",
   "metadata": {},
   "outputs": [],
   "source": [
    "x_train_o = x_train.drop(num, axis = 1)\n",
    "x_val_o = x_val.drop(num, axis = 1)"
   ]
  },
  {
   "cell_type": "code",
   "execution_count": 287,
   "id": "a79f7200",
   "metadata": {},
   "outputs": [],
   "source": [
    "# Standaryzacja\n",
    "x_train_n = x_train.drop(obj, axis = 1)\n",
    "scaler = preprocessing.StandardScaler()\n",
    "scaler.fit(x_train_n)\n",
    "x_traint = scaler.transform(x_train_n)\n",
    "x_valt = scaler.transform(x_val_n)"
   ]
  },
  {
   "cell_type": "code",
   "execution_count": 289,
   "id": "b6381132",
   "metadata": {},
   "outputs": [],
   "source": [
    "#X_train = pd.concat([x_train_n, x_train_o], axis=1)\n",
    "#X_val = pd.concat([x_val_n, x_val_o], axis=1)"
   ]
  },
  {
   "cell_type": "code",
   "execution_count": 292,
   "id": "45ca03c2",
   "metadata": {},
   "outputs": [
    {
     "data": {
      "text/plain": [
       "SVC(C=1, kernel='linear')"
      ]
     },
     "execution_count": 292,
     "metadata": {},
     "output_type": "execute_result"
    }
   ],
   "source": [
    "clf = svm.SVC(kernel='linear', C=1)\n",
    "clf.fit(x_train_n, y_train)"
   ]
  },
  {
   "cell_type": "code",
   "execution_count": 295,
   "id": "8c4a381b",
   "metadata": {},
   "outputs": [
    {
     "name": "stdout",
     "output_type": "stream",
     "text": [
      "0.6943406686109571\n",
      "0.6929593307321874\n"
     ]
    }
   ],
   "source": [
    "print(clf.score(x_train_n, y_train))\n",
    "print(clf.score(x_val_n , y_val))"
   ]
  },
  {
   "cell_type": "code",
   "execution_count": null,
   "id": "5aaca2c9",
   "metadata": {},
   "outputs": [],
   "source": []
  }
 ],
 "metadata": {
  "kernelspec": {
   "display_name": "WM",
   "language": "python",
   "name": "wm"
  },
  "language_info": {
   "codemirror_mode": {
    "name": "ipython",
    "version": 3
   },
   "file_extension": ".py",
   "mimetype": "text/x-python",
   "name": "python",
   "nbconvert_exporter": "python",
   "pygments_lexer": "ipython3",
   "version": "3.10.4"
  }
 },
 "nbformat": 4,
 "nbformat_minor": 5
}
