{
 "cells": [
  {
   "cell_type": "code",
   "execution_count": 1,
   "metadata": {},
   "outputs": [
    {
     "name": "stdout",
     "output_type": "stream",
     "text": [
      "Requirement already satisfied: pandas in z:\\users\\patryk\\anaconda4\\envs\\xgboost\\lib\\site-packages (1.4.1)\n",
      "Requirement already satisfied: numpy>=1.18.5 in z:\\users\\patryk\\anaconda4\\envs\\xgboost\\lib\\site-packages (from pandas) (1.22.3)\n",
      "Requirement already satisfied: pytz>=2020.1 in z:\\users\\patryk\\anaconda4\\envs\\xgboost\\lib\\site-packages (from pandas) (2021.3)\n",
      "Requirement already satisfied: python-dateutil>=2.8.1 in z:\\users\\patryk\\anaconda4\\envs\\xgboost\\lib\\site-packages (from pandas) (2.8.2)\n",
      "Requirement already satisfied: six>=1.5 in z:\\users\\patryk\\anaconda4\\envs\\xgboost\\lib\\site-packages (from python-dateutil>=2.8.1->pandas) (1.16.0)\n"
     ]
    }
   ],
   "source": [
    "!pip3 install pandas"
   ]
  },
  {
   "cell_type": "code",
   "execution_count": 2,
   "metadata": {},
   "outputs": [
    {
     "name": "stdout",
     "output_type": "stream",
     "text": [
      "Requirement already satisfied: graphviz in z:\\users\\patryk\\anaconda4\\envs\\xgboost\\lib\\site-packages (0.19.1)\n"
     ]
    }
   ],
   "source": [
    "!pip3 install graphviz"
   ]
  },
  {
   "cell_type": "code",
   "execution_count": 3,
   "metadata": {},
   "outputs": [
    {
     "name": "stdout",
     "output_type": "stream",
     "text": [
      "Requirement already satisfied: scikit-learn in z:\\users\\patryk\\anaconda4\\envs\\xgboost\\lib\\site-packages (1.0.2)\n",
      "Requirement already satisfied: numpy>=1.14.6 in z:\\users\\patryk\\anaconda4\\envs\\xgboost\\lib\\site-packages (from scikit-learn) (1.22.3)\n",
      "Requirement already satisfied: threadpoolctl>=2.0.0 in z:\\users\\patryk\\anaconda4\\envs\\xgboost\\lib\\site-packages (from scikit-learn) (3.1.0)\n",
      "Requirement already satisfied: joblib>=0.11 in z:\\users\\patryk\\anaconda4\\envs\\xgboost\\lib\\site-packages (from scikit-learn) (1.1.0)\n",
      "Requirement already satisfied: scipy>=1.1.0 in z:\\users\\patryk\\anaconda4\\envs\\xgboost\\lib\\site-packages (from scikit-learn) (1.8.0)\n"
     ]
    }
   ],
   "source": [
    "!pip3 install scikit-learn"
   ]
  },
  {
   "cell_type": "code",
   "execution_count": 4,
   "metadata": {},
   "outputs": [
    {
     "name": "stdout",
     "output_type": "stream",
     "text": [
      "Requirement already satisfied: openpyxl in z:\\users\\patryk\\anaconda4\\envs\\xgboost\\lib\\site-packages (3.0.9)\n",
      "Requirement already satisfied: et-xmlfile in z:\\users\\patryk\\anaconda4\\envs\\xgboost\\lib\\site-packages (from openpyxl) (1.1.0)\n"
     ]
    }
   ],
   "source": [
    "# Pakiet do plików xlsx\n",
    "!pip3 install openpyxl"
   ]
  },
  {
   "cell_type": "code",
   "execution_count": 6,
   "metadata": {},
   "outputs": [
    {
     "name": "stderr",
     "output_type": "stream",
     "text": [
      "Z:\\Users\\Patryk\\anaconda4\\envs\\xgboost\\lib\\site-packages\\xgboost\\compat.py:36: FutureWarning: pandas.Int64Index is deprecated and will be removed from pandas in a future version. Use pandas.Index with the appropriate dtype instead.\n",
      "  from pandas import MultiIndex, Int64Index\n"
     ]
    }
   ],
   "source": [
    "import pandas as pd # load and manipulate data and for One-Hot Encoding\n",
    "import numpy as np # calculate the mean and standard deviation\n",
    "import xgboost as xgb # XGBoost stuff\n",
    "from sklearn.model_selection import train_test_split # split  data into training and testing sets\n",
    "from sklearn.metrics import balanced_accuracy_score, roc_auc_score, make_scorer # for scoring during cross validation\n",
    "from sklearn.model_selection import GridSearchCV # cross validation\n",
    "from sklearn.metrics import confusion_matrix # creates a confusion matrix\n",
    "from sklearn.metrics import plot_confusion_matrix # draws a confusion matrix"
   ]
  },
  {
   "cell_type": "code",
   "execution_count": 7,
   "metadata": {},
   "outputs": [
    {
     "name": "stdout",
     "output_type": "stream",
     "text": [
      "\n",
      "INSTALLED VERSIONS\n",
      "------------------\n",
      "commit           : 06d230151e6f18fdb8139d09abf539867a8cd481\n",
      "python           : 3.8.12.final.0\n",
      "python-bits      : 64\n",
      "OS               : Windows\n",
      "OS-release       : 10\n",
      "Version          : 10.0.19043\n",
      "machine          : AMD64\n",
      "processor        : AMD64 Family 23 Model 1 Stepping 1, AuthenticAMD\n",
      "byteorder        : little\n",
      "LC_ALL           : None\n",
      "LANG             : None\n",
      "LOCALE           : Polish_Poland.1250\n",
      "\n",
      "pandas           : 1.4.1\n",
      "numpy            : 1.22.3\n",
      "pytz             : 2021.3\n",
      "dateutil         : 2.8.2\n",
      "pip              : 21.2.2\n",
      "setuptools       : 58.0.4\n",
      "Cython           : None\n",
      "pytest           : None\n",
      "hypothesis       : None\n",
      "sphinx           : None\n",
      "blosc            : None\n",
      "feather          : None\n",
      "xlsxwriter       : None\n",
      "lxml.etree       : None\n",
      "html5lib         : None\n",
      "pymysql          : None\n",
      "psycopg2         : None\n",
      "jinja2           : 3.0.2\n",
      "IPython          : 8.1.1\n",
      "pandas_datareader: None\n",
      "bs4              : None\n",
      "bottleneck       : None\n",
      "fastparquet      : None\n",
      "fsspec           : None\n",
      "gcsfs            : None\n",
      "matplotlib       : None\n",
      "numba            : None\n",
      "numexpr          : None\n",
      "odfpy            : None\n",
      "openpyxl         : 3.0.9\n",
      "pandas_gbq       : None\n",
      "pyarrow          : None\n",
      "pyreadstat       : None\n",
      "pyxlsb           : None\n",
      "s3fs             : None\n",
      "scipy            : 1.8.0\n",
      "sqlalchemy       : None\n",
      "tables           : None\n",
      "tabulate         : None\n",
      "xarray           : None\n",
      "xlrd             : None\n",
      "xlwt             : None\n",
      "zstandard        : None\n",
      "None\n"
     ]
    }
   ],
   "source": [
    "# Wersje pakietów na przykładzie pandas\n",
    "print(pd.show_versions())"
   ]
  },
  {
   "cell_type": "code",
   "execution_count": 1,
   "metadata": {},
   "outputs": [
    {
     "name": "stdout",
     "output_type": "stream",
     "text": [
      "Requirement already satisfied: matplotlib in z:\\users\\patryk\\anaconda4\\envs\\xgboost\\lib\\site-packages (3.5.1)\n",
      "Requirement already satisfied: numpy>=1.17 in z:\\users\\patryk\\anaconda4\\envs\\xgboost\\lib\\site-packages (from matplotlib) (1.21.5)\n",
      "Requirement already satisfied: cycler>=0.10 in z:\\users\\patryk\\anaconda4\\envs\\xgboost\\lib\\site-packages (from matplotlib) (0.11.0)\n",
      "Requirement already satisfied: packaging>=20.0 in z:\\users\\patryk\\anaconda4\\envs\\xgboost\\lib\\site-packages (from matplotlib) (21.3)\n",
      "Requirement already satisfied: pyparsing>=2.2.1 in z:\\users\\patryk\\anaconda4\\envs\\xgboost\\lib\\site-packages (from matplotlib) (3.0.4)\n",
      "Requirement already satisfied: kiwisolver>=1.0.1 in z:\\users\\patryk\\anaconda4\\envs\\xgboost\\lib\\site-packages (from matplotlib) (1.3.2)\n",
      "Requirement already satisfied: python-dateutil>=2.7 in z:\\users\\patryk\\anaconda4\\envs\\xgboost\\lib\\site-packages (from matplotlib) (2.8.2)\n",
      "Requirement already satisfied: pillow>=6.2.0 in z:\\users\\patryk\\anaconda4\\envs\\xgboost\\lib\\site-packages (from matplotlib) (9.0.1)\n",
      "Requirement already satisfied: fonttools>=4.22.0 in z:\\users\\patryk\\anaconda4\\envs\\xgboost\\lib\\site-packages (from matplotlib) (4.30.0)\n",
      "Requirement already satisfied: six>=1.5 in z:\\users\\patryk\\anaconda4\\envs\\xgboost\\lib\\site-packages (from python-dateutil>=2.7->matplotlib) (1.16.0)\n"
     ]
    }
   ],
   "source": [
    "!pip3 install matplotlib"
   ]
  },
  {
   "cell_type": "code",
   "execution_count": 2,
   "metadata": {},
   "outputs": [
    {
     "name": "stdout",
     "output_type": "stream",
     "text": [
      "Collecting lightgbm\n",
      "  Downloading lightgbm-3.3.2-py3-none-win_amd64.whl (1.0 MB)\n",
      "Requirement already satisfied: scikit-learn!=0.22.0 in z:\\users\\patryk\\anaconda4\\envs\\xgboost\\lib\\site-packages (from lightgbm) (1.0.2)\n",
      "Requirement already satisfied: wheel in z:\\users\\patryk\\anaconda4\\envs\\xgboost\\lib\\site-packages (from lightgbm) (0.37.1)\n",
      "Requirement already satisfied: numpy in z:\\users\\patryk\\anaconda4\\envs\\xgboost\\lib\\site-packages (from lightgbm) (1.21.5)\n",
      "Requirement already satisfied: scipy in z:\\users\\patryk\\anaconda4\\envs\\xgboost\\lib\\site-packages (from lightgbm) (1.8.0)\n",
      "Requirement already satisfied: joblib>=0.11 in z:\\users\\patryk\\anaconda4\\envs\\xgboost\\lib\\site-packages (from scikit-learn!=0.22.0->lightgbm) (1.1.0)\n",
      "Requirement already satisfied: threadpoolctl>=2.0.0 in z:\\users\\patryk\\anaconda4\\envs\\xgboost\\lib\\site-packages (from scikit-learn!=0.22.0->lightgbm) (3.1.0)\n",
      "Installing collected packages: lightgbm\n",
      "Successfully installed lightgbm-3.3.2\n"
     ]
    }
   ],
   "source": [
    "!pip3 install lightgbm"
   ]
  },
  {
   "cell_type": "code",
   "execution_count": 4,
   "metadata": {},
   "outputs": [
    {
     "name": "stdout",
     "output_type": "stream",
     "text": [
      "Collecting seaborn\n",
      "  Downloading seaborn-0.11.2-py3-none-any.whl (292 kB)\n",
      "Requirement already satisfied: matplotlib>=2.2 in z:\\users\\patryk\\anaconda4\\envs\\xgboost\\lib\\site-packages (from seaborn) (3.5.1)\n",
      "Requirement already satisfied: pandas>=0.23 in z:\\users\\patryk\\anaconda4\\envs\\xgboost\\lib\\site-packages (from seaborn) (1.4.1)\n",
      "Requirement already satisfied: numpy>=1.15 in z:\\users\\patryk\\anaconda4\\envs\\xgboost\\lib\\site-packages (from seaborn) (1.21.5)\n",
      "Requirement already satisfied: scipy>=1.0 in z:\\users\\patryk\\anaconda4\\envs\\xgboost\\lib\\site-packages (from seaborn) (1.8.0)\n",
      "Requirement already satisfied: kiwisolver>=1.0.1 in z:\\users\\patryk\\anaconda4\\envs\\xgboost\\lib\\site-packages (from matplotlib>=2.2->seaborn) (1.3.2)\n",
      "Requirement already satisfied: cycler>=0.10 in z:\\users\\patryk\\anaconda4\\envs\\xgboost\\lib\\site-packages (from matplotlib>=2.2->seaborn) (0.11.0)\n",
      "Requirement already satisfied: python-dateutil>=2.7 in z:\\users\\patryk\\anaconda4\\envs\\xgboost\\lib\\site-packages (from matplotlib>=2.2->seaborn) (2.8.2)\n",
      "Requirement already satisfied: fonttools>=4.22.0 in z:\\users\\patryk\\anaconda4\\envs\\xgboost\\lib\\site-packages (from matplotlib>=2.2->seaborn) (4.30.0)\n",
      "Requirement already satisfied: packaging>=20.0 in z:\\users\\patryk\\anaconda4\\envs\\xgboost\\lib\\site-packages (from matplotlib>=2.2->seaborn) (21.3)\n",
      "Requirement already satisfied: pillow>=6.2.0 in z:\\users\\patryk\\anaconda4\\envs\\xgboost\\lib\\site-packages (from matplotlib>=2.2->seaborn) (9.0.1)\n",
      "Requirement already satisfied: pyparsing>=2.2.1 in z:\\users\\patryk\\anaconda4\\envs\\xgboost\\lib\\site-packages (from matplotlib>=2.2->seaborn) (3.0.4)\n",
      "Requirement already satisfied: pytz>=2020.1 in z:\\users\\patryk\\anaconda4\\envs\\xgboost\\lib\\site-packages (from pandas>=0.23->seaborn) (2021.3)\n",
      "Requirement already satisfied: six>=1.5 in z:\\users\\patryk\\anaconda4\\envs\\xgboost\\lib\\site-packages (from python-dateutil>=2.7->matplotlib>=2.2->seaborn) (1.16.0)\n",
      "Installing collected packages: seaborn\n",
      "Successfully installed seaborn-0.11.2\n"
     ]
    }
   ],
   "source": [
    "!pip3 install seaborn"
   ]
  },
  {
   "cell_type": "code",
   "execution_count": 1,
   "metadata": {},
   "outputs": [
    {
     "name": "stdout",
     "output_type": "stream",
     "text": [
      "Requirement already satisfied: sklearn in z:\\users\\patryk\\anaconda4\\envs\\xgboost\\lib\\site-packages (0.0)\n",
      "Requirement already satisfied: scikit-learn in z:\\users\\patryk\\anaconda4\\envs\\xgboost\\lib\\site-packages (from sklearn) (1.0.2)\n",
      "Requirement already satisfied: threadpoolctl>=2.0.0 in z:\\users\\patryk\\anaconda4\\envs\\xgboost\\lib\\site-packages (from scikit-learn->sklearn) (3.1.0)\n",
      "Requirement already satisfied: scipy>=1.1.0 in z:\\users\\patryk\\anaconda4\\envs\\xgboost\\lib\\site-packages (from scikit-learn->sklearn) (1.8.0)\n",
      "Requirement already satisfied: joblib>=0.11 in z:\\users\\patryk\\anaconda4\\envs\\xgboost\\lib\\site-packages (from scikit-learn->sklearn) (1.1.0)\n",
      "Requirement already satisfied: numpy>=1.14.6 in z:\\users\\patryk\\anaconda4\\envs\\xgboost\\lib\\site-packages (from scikit-learn->sklearn) (1.21.5)\n"
     ]
    }
   ],
   "source": [
    "!pip3 install sklearn"
   ]
  },
  {
   "cell_type": "code",
   "execution_count": 2,
   "metadata": {},
   "outputs": [
    {
     "name": "stdout",
     "output_type": "stream",
     "text": [
      "Collecting boruta\n",
      "  Downloading Boruta-0.3-py3-none-any.whl (56 kB)\n",
      "Requirement already satisfied: scikit-learn>=0.17.1 in z:\\users\\patryk\\anaconda4\\envs\\xgboost\\lib\\site-packages (from boruta) (1.0.2)\n",
      "Requirement already satisfied: scipy>=0.17.0 in z:\\users\\patryk\\anaconda4\\envs\\xgboost\\lib\\site-packages (from boruta) (1.8.0)\n",
      "Requirement already satisfied: numpy>=1.10.4 in z:\\users\\patryk\\anaconda4\\envs\\xgboost\\lib\\site-packages (from boruta) (1.21.5)\n",
      "Requirement already satisfied: threadpoolctl>=2.0.0 in z:\\users\\patryk\\anaconda4\\envs\\xgboost\\lib\\site-packages (from scikit-learn>=0.17.1->boruta) (3.1.0)\n",
      "Requirement already satisfied: joblib>=0.11 in z:\\users\\patryk\\anaconda4\\envs\\xgboost\\lib\\site-packages (from scikit-learn>=0.17.1->boruta) (1.1.0)\n",
      "Installing collected packages: boruta\n",
      "Successfully installed boruta-0.3\n"
     ]
    }
   ],
   "source": [
    "!pip3 install boruta"
   ]
  }
 ],
 "metadata": {
  "kernelspec": {
   "display_name": "Python 3 (ipykernel)",
   "language": "python",
   "name": "python3"
  },
  "language_info": {
   "codemirror_mode": {
    "name": "ipython",
    "version": 3
   },
   "file_extension": ".py",
   "mimetype": "text/x-python",
   "name": "python",
   "nbconvert_exporter": "python",
   "pygments_lexer": "ipython3",
   "version": "3.8.12"
  }
 },
 "nbformat": 4,
 "nbformat_minor": 4
}
